{
 "cells": [
  {
   "cell_type": "markdown",
   "metadata": {},
   "source": [
    "# MBD41 – Project \n",
    "## Clara Maria Ferracini - 245735"
   ]
  },
  {
   "cell_type": "code",
   "execution_count": 1,
   "metadata": {},
   "outputs": [],
   "source": [
    "import pandas as pd\n",
    "import numpy as np \n",
    "from datetime import datetime\n",
    "import matplotlib.pyplot as plt"
   ]
  },
  {
   "cell_type": "code",
   "execution_count": 2,
   "metadata": {},
   "outputs": [],
   "source": [
    "comp_df = pd.read_excel('./2425MBD41_Project_Dataset.xlsx', sheet_name='COMPANY' )\n",
    "inv_df = pd.read_excel('./2425MBD41_Project_Dataset.xlsx', sheet_name='INVESTMENT' )\n",
    "acq_df = pd.read_excel('./2425MBD41_Project_Dataset.xlsx', sheet_name='ACQUISITION' )\n",
    "emp_df = pd.read_excel('./2425MBD41_Project_Dataset.xlsx', sheet_name='EMPLOYEE' )"
   ]
  },
  {
   "cell_type": "markdown",
   "metadata": {},
   "source": [
    "## Data Cleaning"
   ]
  },
  {
   "cell_type": "markdown",
   "metadata": {},
   "source": [
    "Function to return missing values, duplicates, basic descriptive statistics and value counts for our dataframes."
   ]
  },
  {
   "cell_type": "code",
   "execution_count": 3,
   "metadata": {},
   "outputs": [],
   "source": [
    "def profile_dataframe(df, df_name):\n",
    "    print(f\"--- {df_name} Information ---\")\n",
    "    \n",
    "    # Missing values\n",
    "    print(\"\\nMissing Values:\")\n",
    "    print(df.isnull().sum())\n",
    "    \n",
    "    # Duplicates\n",
    "    print(\"\\nDuplicate Rows:\")\n",
    "    print(df.duplicated().sum())\n",
    "    \n",
    "    # Basic descriptive statistics for numerical columns\n",
    "    print(\"\\nDescriptive Statistics (Numerical Columns):\")\n",
    "    print(df.describe())\n",
    "    \n",
    "    # Value counts for categorical columns\n",
    "    print(\"\\nValue Counts (Categorical Columns):\")\n",
    "    for col in df.select_dtypes(include=['object']).columns:\n",
    "        print(f\"\\n{col} Value Counts:\")\n",
    "        print(df[col].value_counts())"
   ]
  },
  {
   "cell_type": "markdown",
   "metadata": {},
   "source": [
    "### Company "
   ]
  },
  {
   "cell_type": "code",
   "execution_count": 4,
   "metadata": {},
   "outputs": [
    {
     "name": "stdout",
     "output_type": "stream",
     "text": [
      "--- COMPANY Information ---\n",
      "\n",
      "Missing Values:\n",
      "COMPANY_NAME       0\n",
      "CATEGORY           0\n",
      "LOCATION           0\n",
      "FOUNDED_ON         0\n",
      "EXITED_ON          0\n",
      "CLOSED_ON          0\n",
      "REVENU_RANGE       0\n",
      "EMPLOYEE_NUMBER    0\n",
      "dtype: int64\n",
      "\n",
      "Duplicate Rows:\n",
      "0\n",
      "\n",
      "Descriptive Statistics (Numerical Columns):\n",
      "       COMPANY_NAME                                           CATEGORY  \\\n",
      "count          1000                                               1000   \n",
      "unique         1000                                                977   \n",
      "top         Twitter  Biotechnology, Health Care, Medical, Pharmaceu...   \n",
      "freq              1                                                  5   \n",
      "\n",
      "                                        LOCATION FOUNDED_ON EXITED_ON  \\\n",
      "count                                       1000       1000      1000   \n",
      "unique                                       255        428       269   \n",
      "top     San Francisco, California, United States       2012         —   \n",
      "freq                                         173         55       678   \n",
      "\n",
      "       CLOSED_ON REVENU_RANGE EMPLOYEE_NUMBER  \n",
      "count       1000         1000            1000  \n",
      "unique         6            9              10  \n",
      "top            —  $1M to $10M         101-250  \n",
      "freq         995          230             196  \n",
      "\n",
      "Value Counts (Categorical Columns):\n",
      "\n",
      "COMPANY_NAME Value Counts:\n",
      "Twitter                 1\n",
      "Solv                    1\n",
      "Qihoo 360 Technology    1\n",
      "Zephr                   1\n",
      "Plastiq                 1\n",
      "                       ..\n",
      "Pindrop                 1\n",
      "Figma                   1\n",
      "Pipe                    1\n",
      "Allianz                 1\n",
      "Bitmain                 1\n",
      "Name: COMPANY_NAME, Length: 1000, dtype: int64\n",
      "\n",
      "CATEGORY Value Counts:\n",
      "Biotechnology, Health Care, Medical, Pharmaceutical                                                   5\n",
      "—                                                                                                     4\n",
      "Banking, Finance, Financial Services, FinTech                                                         3\n",
      "Cyber Security, Network Security, Security                                                            3\n",
      "E-Learning, EdTech, Education                                                                         3\n",
      "                                                                                                     ..\n",
      "Developer Tools, Graphic Design, Internet, Product Design, Software, UX Design, Web Design            1\n",
      "Finance, Financial Services, Internet, SaaS                                                           1\n",
      "Asset Management, Financial Services, Insurance, Intellectual Property                                1\n",
      "Artificial Intelligence, Health Care, Machine Learning, Medical, Neuroscience                         1\n",
      "Application Specific Integrated Circuit (ASIC), Bitcoin, Electronics, Manufacturing, Semiconductor    1\n",
      "Name: CATEGORY, Length: 977, dtype: int64\n",
      "\n",
      "LOCATION Value Counts:\n",
      "San Francisco, California, United States    173\n",
      "New York, New York, United States           111\n",
      "London, England, United Kingdom              58\n",
      "Boston, Massachusetts, United States         25\n",
      "Mountain View, California, United States     22\n",
      "                                           ... \n",
      "Irvine, California, United States             1\n",
      "Hanover, Maryland, United States              1\n",
      "Valletta, NA - Malta, Malta                   1\n",
      "Kormangala, Karnataka, India                  1\n",
      "Portland, Oregon, United States               1\n",
      "Name: LOCATION, Length: 255, dtype: int64\n",
      "\n",
      "FOUNDED_ON Value Counts:\n",
      "2012            55\n",
      "2013            53\n",
      "2016            43\n",
      "2015            43\n",
      "2014            41\n",
      "                ..\n",
      "Apr 2018         1\n",
      "Sep 24, 2009     1\n",
      "Jul 30, 2008     1\n",
      "May 4, 1977      1\n",
      "Jul 31, 1998     1\n",
      "Name: FOUNDED_ON, Length: 428, dtype: int64\n",
      "\n",
      "EXITED_ON Value Counts:\n",
      "—               678\n",
      "Jan 13, 1978      7\n",
      "Dec 3, 2020       5\n",
      "Dec 17, 2020      4\n",
      "Dec 9, 2020       4\n",
      "               ... \n",
      "Jul 30, 2010      1\n",
      "May 29, 1992      1\n",
      "May 8, 2018       1\n",
      "Jun 4, 2020       1\n",
      "Oct 11, 2019      1\n",
      "Name: EXITED_ON, Length: 269, dtype: int64\n",
      "\n",
      "CLOSED_ON Value Counts:\n",
      "—               995\n",
      "Jan 6, 2020       1\n",
      "Dec 28, 2020      1\n",
      "Apr 13, 2020      1\n",
      "2014              1\n",
      "Jan 2020          1\n",
      "Name: CLOSED_ON, dtype: int64\n",
      "\n",
      "REVENU_RANGE Value Counts:\n",
      "$1M to $10M       230\n",
      "$10M to $50M      216\n",
      "$100M to $500M    166\n",
      "$50M to $100M     103\n",
      "$1B to $10B        77\n",
      "Less than $1M      73\n",
      "$500M to $1B       47\n",
      "—                  46\n",
      "$10B+              42\n",
      "Name: REVENU_RANGE, dtype: int64\n",
      "\n",
      "EMPLOYEE_NUMBER Value Counts:\n",
      "101-250       196\n",
      "251-500       156\n",
      "1001-5000     155\n",
      "11-50         124\n",
      "501-1000      119\n",
      "51-100         95\n",
      "10001+         95\n",
      "5001-10000     33\n",
      "1-10           25\n",
      "—               2\n",
      "Name: EMPLOYEE_NUMBER, dtype: int64\n"
     ]
    }
   ],
   "source": [
    "profile_dataframe(comp_df, 'COMPANY')"
   ]
  },
  {
   "cell_type": "code",
   "execution_count": 5,
   "metadata": {},
   "outputs": [
    {
     "data": {
      "text/html": [
       "<div>\n",
       "<style scoped>\n",
       "    .dataframe tbody tr th:only-of-type {\n",
       "        vertical-align: middle;\n",
       "    }\n",
       "\n",
       "    .dataframe tbody tr th {\n",
       "        vertical-align: top;\n",
       "    }\n",
       "\n",
       "    .dataframe thead th {\n",
       "        text-align: right;\n",
       "    }\n",
       "</style>\n",
       "<table border=\"1\" class=\"dataframe\">\n",
       "  <thead>\n",
       "    <tr style=\"text-align: right;\">\n",
       "      <th></th>\n",
       "      <th>COMPANY_NAME</th>\n",
       "      <th>CATEGORY</th>\n",
       "      <th>LOCATION</th>\n",
       "      <th>FOUNDED_ON</th>\n",
       "      <th>EXITED_ON</th>\n",
       "      <th>CLOSED_ON</th>\n",
       "      <th>REVENU_RANGE</th>\n",
       "      <th>EMPLOYEE_NUMBER</th>\n",
       "    </tr>\n",
       "  </thead>\n",
       "  <tbody>\n",
       "    <tr>\n",
       "      <th>0</th>\n",
       "      <td>Twitter</td>\n",
       "      <td>Blogging Platforms, Messaging, SMS, Social Media</td>\n",
       "      <td>San Francisco, California, United States</td>\n",
       "      <td>Mar 21, 2006</td>\n",
       "      <td>Nov 7, 2013</td>\n",
       "      <td>—</td>\n",
       "      <td>$1B to $10B</td>\n",
       "      <td>1001-5000</td>\n",
       "    </tr>\n",
       "    <tr>\n",
       "      <th>1</th>\n",
       "      <td>Ant Group</td>\n",
       "      <td>Banking, E-Commerce, Financial Services, FinTe...</td>\n",
       "      <td>Hangzhou, Zhejiang, China</td>\n",
       "      <td>Oct 2014</td>\n",
       "      <td>—</td>\n",
       "      <td>—</td>\n",
       "      <td>$100M to $500M</td>\n",
       "      <td>5001-10000</td>\n",
       "    </tr>\n",
       "    <tr>\n",
       "      <th>2</th>\n",
       "      <td>Squire</td>\n",
       "      <td>Consumer, FinTech, Mobile Apps, Point of Sale,...</td>\n",
       "      <td>New York, New York, United States</td>\n",
       "      <td>2016</td>\n",
       "      <td>—</td>\n",
       "      <td>—</td>\n",
       "      <td>$1M to $10M</td>\n",
       "      <td>51-100</td>\n",
       "    </tr>\n",
       "    <tr>\n",
       "      <th>3</th>\n",
       "      <td>Xiaomi</td>\n",
       "      <td>Consumer Electronics, Internet, Mobile</td>\n",
       "      <td>Beijing, Beijing, China</td>\n",
       "      <td>Apr 4, 2010</td>\n",
       "      <td>Jul 9, 2018</td>\n",
       "      <td>—</td>\n",
       "      <td>$10B+</td>\n",
       "      <td>10001+</td>\n",
       "    </tr>\n",
       "    <tr>\n",
       "      <th>4</th>\n",
       "      <td>maude</td>\n",
       "      <td>Consumer Goods, E-Commerce, Personal Health, W...</td>\n",
       "      <td>Brooklyn, New York, United States</td>\n",
       "      <td>2018</td>\n",
       "      <td>—</td>\n",
       "      <td>—</td>\n",
       "      <td>$1M to $10M</td>\n",
       "      <td>1-10</td>\n",
       "    </tr>\n",
       "  </tbody>\n",
       "</table>\n",
       "</div>"
      ],
      "text/plain": [
       "  COMPANY_NAME                                           CATEGORY  \\\n",
       "0      Twitter   Blogging Platforms, Messaging, SMS, Social Media   \n",
       "1    Ant Group  Banking, E-Commerce, Financial Services, FinTe...   \n",
       "2       Squire  Consumer, FinTech, Mobile Apps, Point of Sale,...   \n",
       "3       Xiaomi             Consumer Electronics, Internet, Mobile   \n",
       "4        maude  Consumer Goods, E-Commerce, Personal Health, W...   \n",
       "\n",
       "                                   LOCATION    FOUNDED_ON    EXITED_ON  \\\n",
       "0  San Francisco, California, United States  Mar 21, 2006  Nov 7, 2013   \n",
       "1                 Hangzhou, Zhejiang, China      Oct 2014            —   \n",
       "2         New York, New York, United States          2016            —   \n",
       "3                   Beijing, Beijing, China   Apr 4, 2010  Jul 9, 2018   \n",
       "4         Brooklyn, New York, United States          2018            —   \n",
       "\n",
       "  CLOSED_ON    REVENU_RANGE EMPLOYEE_NUMBER  \n",
       "0         —     $1B to $10B       1001-5000  \n",
       "1         —  $100M to $500M      5001-10000  \n",
       "2         —     $1M to $10M          51-100  \n",
       "3         —           $10B+          10001+  \n",
       "4         —     $1M to $10M            1-10  "
      ]
     },
     "execution_count": 5,
     "metadata": {},
     "output_type": "execute_result"
    }
   ],
   "source": [
    "comp_df.head()"
   ]
  },
  {
   "cell_type": "code",
   "execution_count": 6,
   "metadata": {},
   "outputs": [
    {
     "name": "stdout",
     "output_type": "stream",
     "text": [
      "<class 'pandas.core.frame.DataFrame'>\n",
      "RangeIndex: 1000 entries, 0 to 999\n",
      "Data columns (total 8 columns):\n",
      " #   Column           Non-Null Count  Dtype         \n",
      "---  ------           --------------  -----         \n",
      " 0   COMPANY_NAME     1000 non-null   object        \n",
      " 1   CATEGORY         996 non-null    object        \n",
      " 2   LOCATION         1000 non-null   object        \n",
      " 3   FOUNDED_ON       1000 non-null   datetime64[ns]\n",
      " 4   EXITED_ON        322 non-null    datetime64[ns]\n",
      " 5   CLOSED_ON        5 non-null      datetime64[ns]\n",
      " 6   REVENUE_RANGE    954 non-null    object        \n",
      " 7   EMPLOYEE_NUMBER  998 non-null    object        \n",
      "dtypes: datetime64[ns](3), object(5)\n",
      "memory usage: 62.6+ KB\n",
      "None\n"
     ]
    }
   ],
   "source": [
    "# Replace '—' with NaN\n",
    "comp_df.replace(\"—\", np.nan, inplace=True)\n",
    "# Use date format for date columns (FOUNDED_ON, EXITED_ON, CLOSED_ON)   \n",
    "comp_df['FOUNDED_ON'] = pd.to_datetime(comp_df['FOUNDED_ON'])\n",
    "comp_df['EXITED_ON'] = pd.to_datetime(comp_df['EXITED_ON'])\n",
    "comp_df['CLOSED_ON'] = pd.to_datetime(comp_df['CLOSED_ON'])\n",
    "comp_df.rename(columns={'REVENU_RANGE': 'REVENUE_RANGE'}, inplace=True)\n",
    "\n",
    "print(comp_df.info())"
   ]
  },
  {
   "cell_type": "markdown",
   "metadata": {},
   "source": [
    "#### Location"
   ]
  },
  {
   "cell_type": "code",
   "execution_count": 7,
   "metadata": {},
   "outputs": [
    {
     "data": {
      "text/plain": [
       "San Francisco, California, United States    0.173\n",
       "New York, New York, United States           0.111\n",
       "London, England, United Kingdom             0.058\n",
       "Boston, Massachusetts, United States        0.025\n",
       "Mountain View, California, United States    0.022\n",
       "                                            ...  \n",
       "Irvine, California, United States           0.001\n",
       "Hanover, Maryland, United States            0.001\n",
       "Valletta, NA - Malta, Malta                 0.001\n",
       "Kormangala, Karnataka, India                0.001\n",
       "Portland, Oregon, United States             0.001\n",
       "Name: LOCATION, Length: 255, dtype: float64"
      ]
     },
     "execution_count": 7,
     "metadata": {},
     "output_type": "execute_result"
    }
   ],
   "source": [
    "comp_df['LOCATION'].value_counts(normalize=True)"
   ]
  },
  {
   "cell_type": "markdown",
   "metadata": {},
   "source": [
    "Split the LOCATION column into three parts: City, State/Province, and Country and assign each part to a new column so we can separately analyse them "
   ]
  },
  {
   "cell_type": "code",
   "execution_count": 8,
   "metadata": {},
   "outputs": [],
   "source": [
    "location_split = comp_df['LOCATION'].str.split(',', n=2, expand=True)\n",
    "comp_df['CITY'] = location_split[0].str.strip()\n",
    "comp_df['STATE/PROVINCE'] = location_split[1].str.strip()\n",
    "comp_df['COUNTRY'] = location_split[2].str.strip()\n",
    "\n",
    "comp_df.drop(columns=['LOCATION'], inplace=True)"
   ]
  },
  {
   "cell_type": "code",
   "execution_count": 9,
   "metadata": {},
   "outputs": [
    {
     "data": {
      "text/plain": [
       "count              1000\n",
       "unique               46\n",
       "top       United States\n",
       "freq                660\n",
       "Name: COUNTRY, dtype: object"
      ]
     },
     "execution_count": 9,
     "metadata": {},
     "output_type": "execute_result"
    }
   ],
   "source": [
    "comp_df['COUNTRY'].describe()"
   ]
  },
  {
   "cell_type": "code",
   "execution_count": 10,
   "metadata": {},
   "outputs": [
    {
     "data": {
      "text/plain": [
       "count              1000\n",
       "unique               46\n",
       "top       United States\n",
       "freq                660\n",
       "Name: COUNTRY, dtype: object"
      ]
     },
     "execution_count": 10,
     "metadata": {},
     "output_type": "execute_result"
    }
   ],
   "source": [
    "comp_df['COUNTRY'].describe()"
   ]
  },
  {
   "cell_type": "markdown",
   "metadata": {},
   "source": [
    "#### Employee Number "
   ]
  },
  {
   "cell_type": "code",
   "execution_count": 11,
   "metadata": {},
   "outputs": [
    {
     "data": {
      "text/plain": [
       "101-250       196\n",
       "251-500       156\n",
       "1001-5000     155\n",
       "11-50         124\n",
       "501-1000      119\n",
       "51-100         95\n",
       "10001+         95\n",
       "5001-10000     33\n",
       "1-10           25\n",
       "Name: EMPLOYEE_NUMBER, dtype: int64"
      ]
     },
     "execution_count": 11,
     "metadata": {},
     "output_type": "execute_result"
    }
   ],
   "source": [
    "comp_df['EMPLOYEE_NUMBER'].value_counts()"
   ]
  },
  {
   "cell_type": "markdown",
   "metadata": {},
   "source": [
    "Function to create bigger categories in the column EMPLOYEE_NUMBER"
   ]
  },
  {
   "cell_type": "code",
   "execution_count": 12,
   "metadata": {},
   "outputs": [
    {
     "name": "stdout",
     "output_type": "stream",
     "text": [
      "Medium        447\n",
      "Large         274\n",
      "Small         149\n",
      "Very Large    128\n",
      "Unknown         2\n",
      "Name: EMPLOYEE_CATEGORY, dtype: int64\n"
     ]
    }
   ],
   "source": [
    "def categorize_employee_number(employee_number):\n",
    "    if employee_number in [\"1-10\", \"11-50\"]:\n",
    "        return \"Small\"\n",
    "    elif employee_number in [\"51-100\", \"101-250\", \"251-500\"]:\n",
    "        return \"Medium\"\n",
    "    elif employee_number in [\"501-1000\", \"1001-5000\"]:\n",
    "        return \"Large\"\n",
    "    elif employee_number in [\"5001-10000\", \"10001+\"]:\n",
    "        return \"Very Large\"\n",
    "    else:\n",
    "        return \"Unknown\"\n",
    "\n",
    "comp_df['EMPLOYEE_CATEGORY'] = comp_df['EMPLOYEE_NUMBER'].apply(categorize_employee_number)\n",
    "\n",
    "print(comp_df['EMPLOYEE_CATEGORY'].value_counts())"
   ]
  },
  {
   "cell_type": "code",
   "execution_count": 13,
   "metadata": {},
   "outputs": [
    {
     "data": {
      "text/html": [
       "<div>\n",
       "<style scoped>\n",
       "    .dataframe tbody tr th:only-of-type {\n",
       "        vertical-align: middle;\n",
       "    }\n",
       "\n",
       "    .dataframe tbody tr th {\n",
       "        vertical-align: top;\n",
       "    }\n",
       "\n",
       "    .dataframe thead th {\n",
       "        text-align: right;\n",
       "    }\n",
       "</style>\n",
       "<table border=\"1\" class=\"dataframe\">\n",
       "  <thead>\n",
       "    <tr style=\"text-align: right;\">\n",
       "      <th></th>\n",
       "      <th>COMPANY_NAME</th>\n",
       "      <th>CATEGORY</th>\n",
       "      <th>FOUNDED_ON</th>\n",
       "      <th>EXITED_ON</th>\n",
       "      <th>CLOSED_ON</th>\n",
       "      <th>REVENUE_RANGE</th>\n",
       "      <th>EMPLOYEE_NUMBER</th>\n",
       "      <th>CITY</th>\n",
       "      <th>STATE/PROVINCE</th>\n",
       "      <th>COUNTRY</th>\n",
       "      <th>EMPLOYEE_CATEGORY</th>\n",
       "    </tr>\n",
       "  </thead>\n",
       "  <tbody>\n",
       "    <tr>\n",
       "      <th>330</th>\n",
       "      <td>Manbang Group</td>\n",
       "      <td>Apps, Freight Service, Logistics, Ride Sharing...</td>\n",
       "      <td>2017-11-01</td>\n",
       "      <td>NaT</td>\n",
       "      <td>NaT</td>\n",
       "      <td>NaN</td>\n",
       "      <td>NaN</td>\n",
       "      <td>Guiyang</td>\n",
       "      <td>Guizhou</td>\n",
       "      <td>China</td>\n",
       "      <td>Unknown</td>\n",
       "    </tr>\n",
       "    <tr>\n",
       "      <th>583</th>\n",
       "      <td>NYDIG</td>\n",
       "      <td>NaN</td>\n",
       "      <td>2017-01-01</td>\n",
       "      <td>NaT</td>\n",
       "      <td>NaT</td>\n",
       "      <td>NaN</td>\n",
       "      <td>NaN</td>\n",
       "      <td>New York</td>\n",
       "      <td>New York</td>\n",
       "      <td>United States</td>\n",
       "      <td>Unknown</td>\n",
       "    </tr>\n",
       "  </tbody>\n",
       "</table>\n",
       "</div>"
      ],
      "text/plain": [
       "      COMPANY_NAME                                           CATEGORY  \\\n",
       "330  Manbang Group  Apps, Freight Service, Logistics, Ride Sharing...   \n",
       "583          NYDIG                                                NaN   \n",
       "\n",
       "    FOUNDED_ON EXITED_ON CLOSED_ON REVENUE_RANGE EMPLOYEE_NUMBER      CITY  \\\n",
       "330 2017-11-01       NaT       NaT           NaN             NaN   Guiyang   \n",
       "583 2017-01-01       NaT       NaT           NaN             NaN  New York   \n",
       "\n",
       "    STATE/PROVINCE        COUNTRY EMPLOYEE_CATEGORY  \n",
       "330        Guizhou          China           Unknown  \n",
       "583       New York  United States           Unknown  "
      ]
     },
     "execution_count": 13,
     "metadata": {},
     "output_type": "execute_result"
    }
   ],
   "source": [
    "unknown_employee_category = comp_df[comp_df['EMPLOYEE_CATEGORY'] == 'Unknown']\n",
    "unknown_employee_category"
   ]
  },
  {
   "cell_type": "code",
   "execution_count": 14,
   "metadata": {},
   "outputs": [
    {
     "data": {
      "text/plain": [
       "Medium        447\n",
       "Large         274\n",
       "Small         149\n",
       "Very Large    128\n",
       "Name: EMPLOYEE_CATEGORY, dtype: int64"
      ]
     },
     "execution_count": 14,
     "metadata": {},
     "output_type": "execute_result"
    }
   ],
   "source": [
    "comp_df = comp_df[comp_df['EMPLOYEE_CATEGORY'] != 'Unknown']\n",
    "comp_df['EMPLOYEE_CATEGORY'].value_counts()"
   ]
  },
  {
   "cell_type": "code",
   "execution_count": 15,
   "metadata": {},
   "outputs": [
    {
     "data": {
      "text/plain": [
       "$1M to $10M       230\n",
       "$10M to $50M      216\n",
       "$100M to $500M    166\n",
       "$50M to $100M     103\n",
       "$1B to $10B        77\n",
       "Less than $1M      73\n",
       "$500M to $1B       47\n",
       "$10B+              42\n",
       "Name: REVENUE_RANGE, dtype: int64"
      ]
     },
     "execution_count": 15,
     "metadata": {},
     "output_type": "execute_result"
    }
   ],
   "source": [
    "comp_df['REVENUE_RANGE'].value_counts() "
   ]
  },
  {
   "cell_type": "markdown",
   "metadata": {},
   "source": [
    "#### Revenue range"
   ]
  },
  {
   "cell_type": "markdown",
   "metadata": {},
   "source": [
    "Function to to the same for REVENUE_RANGE"
   ]
  },
  {
   "cell_type": "code",
   "execution_count": 16,
   "metadata": {},
   "outputs": [
    {
     "name": "stdout",
     "output_type": "stream",
     "text": [
      "Medium        319\n",
      "Small         303\n",
      "Large         213\n",
      "Very Large    119\n",
      "Unknown        44\n",
      "Name: REVENUE_CATEGORY, dtype: int64\n"
     ]
    }
   ],
   "source": [
    "def categorize_revenue_range(revenue_range):\n",
    "    if revenue_range in [\"Less than $1M\", \"$1M to $10M\"]:\n",
    "        return \"Small\"\n",
    "    elif revenue_range in [\"$10M to $50M\", \"$50M to $100M\"]:\n",
    "        return \"Medium\"\n",
    "    elif revenue_range in [\"$100M to $500M\", \"$500M to $1B\"]:\n",
    "        return \"Large\"\n",
    "    elif revenue_range in [\"$1B to $10B\", \"$10B+\"]:\n",
    "        return \"Very Large\"\n",
    "    else:\n",
    "        return \"Unknown\"\n",
    "\n",
    "# Apply the function to create a new column with broader categories\n",
    "comp_df['REVENUE_CATEGORY'] = comp_df['REVENUE_RANGE'].apply(categorize_revenue_range)\n",
    "\n",
    "# View the new category counts\n",
    "print(comp_df['REVENUE_CATEGORY'].value_counts())"
   ]
  },
  {
   "cell_type": "code",
   "execution_count": 17,
   "metadata": {},
   "outputs": [],
   "source": [
    "#unknown_revenue_category = comp_df[comp_df['REVENUE_CATEGORY'] == 'Unknown']\n",
    "#unknown_revenue_category"
   ]
  },
  {
   "cell_type": "markdown",
   "metadata": {},
   "source": [
    "Checked the Unknown hat resulted form the function, it's 44 records but looking closely at the they are unknownn because the REVENUE_RANGE is Na so we drop those rows"
   ]
  },
  {
   "cell_type": "code",
   "execution_count": 18,
   "metadata": {},
   "outputs": [
    {
     "data": {
      "text/plain": [
       "Medium        319\n",
       "Small         303\n",
       "Large         213\n",
       "Very Large    119\n",
       "Name: REVENUE_CATEGORY, dtype: int64"
      ]
     },
     "execution_count": 18,
     "metadata": {},
     "output_type": "execute_result"
    }
   ],
   "source": [
    "# Drop rows with 'Unknown' employee category\n",
    "comp_df = comp_df[comp_df['REVENUE_CATEGORY'] != 'Unknown']\n",
    "comp_df['REVENUE_CATEGORY'].value_counts()"
   ]
  },
  {
   "cell_type": "code",
   "execution_count": 19,
   "metadata": {},
   "outputs": [
    {
     "data": {
      "text/html": [
       "<div>\n",
       "<style scoped>\n",
       "    .dataframe tbody tr th:only-of-type {\n",
       "        vertical-align: middle;\n",
       "    }\n",
       "\n",
       "    .dataframe tbody tr th {\n",
       "        vertical-align: top;\n",
       "    }\n",
       "\n",
       "    .dataframe thead th {\n",
       "        text-align: right;\n",
       "    }\n",
       "</style>\n",
       "<table border=\"1\" class=\"dataframe\">\n",
       "  <thead>\n",
       "    <tr style=\"text-align: right;\">\n",
       "      <th></th>\n",
       "      <th>COMPANY_NAME</th>\n",
       "      <th>CATEGORY</th>\n",
       "      <th>FOUNDED_ON</th>\n",
       "      <th>EXITED_ON</th>\n",
       "      <th>CLOSED_ON</th>\n",
       "      <th>CITY</th>\n",
       "      <th>STATE/PROVINCE</th>\n",
       "      <th>COUNTRY</th>\n",
       "      <th>EMPLOYEE_CATEGORY</th>\n",
       "      <th>REVENUE_CATEGORY</th>\n",
       "    </tr>\n",
       "  </thead>\n",
       "  <tbody>\n",
       "    <tr>\n",
       "      <th>0</th>\n",
       "      <td>Twitter</td>\n",
       "      <td>Blogging Platforms, Messaging, SMS, Social Media</td>\n",
       "      <td>2006-03-21</td>\n",
       "      <td>2013-11-07</td>\n",
       "      <td>NaT</td>\n",
       "      <td>San Francisco</td>\n",
       "      <td>California</td>\n",
       "      <td>United States</td>\n",
       "      <td>Large</td>\n",
       "      <td>Very Large</td>\n",
       "    </tr>\n",
       "    <tr>\n",
       "      <th>1</th>\n",
       "      <td>Ant Group</td>\n",
       "      <td>Banking, E-Commerce, Financial Services, FinTe...</td>\n",
       "      <td>2014-10-01</td>\n",
       "      <td>NaT</td>\n",
       "      <td>NaT</td>\n",
       "      <td>Hangzhou</td>\n",
       "      <td>Zhejiang</td>\n",
       "      <td>China</td>\n",
       "      <td>Very Large</td>\n",
       "      <td>Large</td>\n",
       "    </tr>\n",
       "    <tr>\n",
       "      <th>2</th>\n",
       "      <td>Squire</td>\n",
       "      <td>Consumer, FinTech, Mobile Apps, Point of Sale,...</td>\n",
       "      <td>2016-01-01</td>\n",
       "      <td>NaT</td>\n",
       "      <td>NaT</td>\n",
       "      <td>New York</td>\n",
       "      <td>New York</td>\n",
       "      <td>United States</td>\n",
       "      <td>Medium</td>\n",
       "      <td>Small</td>\n",
       "    </tr>\n",
       "    <tr>\n",
       "      <th>3</th>\n",
       "      <td>Xiaomi</td>\n",
       "      <td>Consumer Electronics, Internet, Mobile</td>\n",
       "      <td>2010-04-04</td>\n",
       "      <td>2018-07-09</td>\n",
       "      <td>NaT</td>\n",
       "      <td>Beijing</td>\n",
       "      <td>Beijing</td>\n",
       "      <td>China</td>\n",
       "      <td>Very Large</td>\n",
       "      <td>Very Large</td>\n",
       "    </tr>\n",
       "    <tr>\n",
       "      <th>4</th>\n",
       "      <td>maude</td>\n",
       "      <td>Consumer Goods, E-Commerce, Personal Health, W...</td>\n",
       "      <td>2018-01-01</td>\n",
       "      <td>NaT</td>\n",
       "      <td>NaT</td>\n",
       "      <td>Brooklyn</td>\n",
       "      <td>New York</td>\n",
       "      <td>United States</td>\n",
       "      <td>Small</td>\n",
       "      <td>Small</td>\n",
       "    </tr>\n",
       "  </tbody>\n",
       "</table>\n",
       "</div>"
      ],
      "text/plain": [
       "  COMPANY_NAME                                           CATEGORY FOUNDED_ON  \\\n",
       "0      Twitter   Blogging Platforms, Messaging, SMS, Social Media 2006-03-21   \n",
       "1    Ant Group  Banking, E-Commerce, Financial Services, FinTe... 2014-10-01   \n",
       "2       Squire  Consumer, FinTech, Mobile Apps, Point of Sale,... 2016-01-01   \n",
       "3       Xiaomi             Consumer Electronics, Internet, Mobile 2010-04-04   \n",
       "4        maude  Consumer Goods, E-Commerce, Personal Health, W... 2018-01-01   \n",
       "\n",
       "   EXITED_ON CLOSED_ON           CITY STATE/PROVINCE        COUNTRY  \\\n",
       "0 2013-11-07       NaT  San Francisco     California  United States   \n",
       "1        NaT       NaT       Hangzhou       Zhejiang          China   \n",
       "2        NaT       NaT       New York       New York  United States   \n",
       "3 2018-07-09       NaT        Beijing        Beijing          China   \n",
       "4        NaT       NaT       Brooklyn       New York  United States   \n",
       "\n",
       "  EMPLOYEE_CATEGORY REVENUE_CATEGORY  \n",
       "0             Large       Very Large  \n",
       "1        Very Large            Large  \n",
       "2            Medium            Small  \n",
       "3        Very Large       Very Large  \n",
       "4             Small            Small  "
      ]
     },
     "execution_count": 19,
     "metadata": {},
     "output_type": "execute_result"
    }
   ],
   "source": [
    "comp_df.drop(columns=['REVENUE_RANGE', 'EMPLOYEE_NUMBER'], inplace=True)\n",
    "comp_df.head()"
   ]
  },
  {
   "cell_type": "code",
   "execution_count": 20,
   "metadata": {},
   "outputs": [],
   "source": [
    "comp_df['FOUNDED_ON'] = pd.to_datetime(comp_df['FOUNDED_ON'])\n",
    "# Calculate the number of years since the company was founded\n",
    "current_date = datetime.now()\n",
    "comp_df['YEARS_SINCE_FOUNDED'] = comp_df['FOUNDED_ON'].apply(lambda x: current_date.year - x.year - ((current_date.month, current_date.day) < (x.month, x.day)))"
   ]
  },
  {
   "cell_type": "markdown",
   "metadata": {},
   "source": [
    "The Column STATUS will have info on whether the company is Closed, Exited or Active. \n",
    "We won't need the columns FOUNDED_ON, EXITED_ON and CLOSED_ON. "
   ]
  },
  {
   "cell_type": "code",
   "execution_count": 21,
   "metadata": {},
   "outputs": [],
   "source": [
    "def company_status(row):\n",
    "    if pd.notnull(row['CLOSED_ON']):\n",
    "        return 'Closed'\n",
    "    elif pd.notnull(row['EXITED_ON']):\n",
    "        return 'Exited'\n",
    "    else:\n",
    "        return 'Active'\n",
    "\n",
    "comp_df['STATUS'] = comp_df.apply(company_status, axis=1)\n",
    "comp_df.drop(columns=['FOUNDED_ON', 'EXITED_ON','CLOSED_ON'], inplace=True)\n"
   ]
  },
  {
   "cell_type": "code",
   "execution_count": 22,
   "metadata": {},
   "outputs": [
    {
     "data": {
      "text/html": [
       "<div>\n",
       "<style scoped>\n",
       "    .dataframe tbody tr th:only-of-type {\n",
       "        vertical-align: middle;\n",
       "    }\n",
       "\n",
       "    .dataframe tbody tr th {\n",
       "        vertical-align: top;\n",
       "    }\n",
       "\n",
       "    .dataframe thead th {\n",
       "        text-align: right;\n",
       "    }\n",
       "</style>\n",
       "<table border=\"1\" class=\"dataframe\">\n",
       "  <thead>\n",
       "    <tr style=\"text-align: right;\">\n",
       "      <th></th>\n",
       "      <th>COMPANY_NAME</th>\n",
       "      <th>CATEGORY</th>\n",
       "      <th>CITY</th>\n",
       "      <th>STATE/PROVINCE</th>\n",
       "      <th>COUNTRY</th>\n",
       "      <th>EMPLOYEE_CATEGORY</th>\n",
       "      <th>REVENUE_CATEGORY</th>\n",
       "      <th>YEARS_SINCE_FOUNDED</th>\n",
       "      <th>STATUS</th>\n",
       "    </tr>\n",
       "  </thead>\n",
       "  <tbody>\n",
       "    <tr>\n",
       "      <th>0</th>\n",
       "      <td>Twitter</td>\n",
       "      <td>Blogging Platforms, Messaging, SMS, Social Media</td>\n",
       "      <td>San Francisco</td>\n",
       "      <td>California</td>\n",
       "      <td>United States</td>\n",
       "      <td>Large</td>\n",
       "      <td>Very Large</td>\n",
       "      <td>18</td>\n",
       "      <td>Exited</td>\n",
       "    </tr>\n",
       "    <tr>\n",
       "      <th>1</th>\n",
       "      <td>Ant Group</td>\n",
       "      <td>Banking, E-Commerce, Financial Services, FinTe...</td>\n",
       "      <td>Hangzhou</td>\n",
       "      <td>Zhejiang</td>\n",
       "      <td>China</td>\n",
       "      <td>Very Large</td>\n",
       "      <td>Large</td>\n",
       "      <td>10</td>\n",
       "      <td>Active</td>\n",
       "    </tr>\n",
       "    <tr>\n",
       "      <th>2</th>\n",
       "      <td>Squire</td>\n",
       "      <td>Consumer, FinTech, Mobile Apps, Point of Sale,...</td>\n",
       "      <td>New York</td>\n",
       "      <td>New York</td>\n",
       "      <td>United States</td>\n",
       "      <td>Medium</td>\n",
       "      <td>Small</td>\n",
       "      <td>8</td>\n",
       "      <td>Active</td>\n",
       "    </tr>\n",
       "    <tr>\n",
       "      <th>3</th>\n",
       "      <td>Xiaomi</td>\n",
       "      <td>Consumer Electronics, Internet, Mobile</td>\n",
       "      <td>Beijing</td>\n",
       "      <td>Beijing</td>\n",
       "      <td>China</td>\n",
       "      <td>Very Large</td>\n",
       "      <td>Very Large</td>\n",
       "      <td>14</td>\n",
       "      <td>Exited</td>\n",
       "    </tr>\n",
       "    <tr>\n",
       "      <th>4</th>\n",
       "      <td>maude</td>\n",
       "      <td>Consumer Goods, E-Commerce, Personal Health, W...</td>\n",
       "      <td>Brooklyn</td>\n",
       "      <td>New York</td>\n",
       "      <td>United States</td>\n",
       "      <td>Small</td>\n",
       "      <td>Small</td>\n",
       "      <td>6</td>\n",
       "      <td>Active</td>\n",
       "    </tr>\n",
       "  </tbody>\n",
       "</table>\n",
       "</div>"
      ],
      "text/plain": [
       "  COMPANY_NAME                                           CATEGORY  \\\n",
       "0      Twitter   Blogging Platforms, Messaging, SMS, Social Media   \n",
       "1    Ant Group  Banking, E-Commerce, Financial Services, FinTe...   \n",
       "2       Squire  Consumer, FinTech, Mobile Apps, Point of Sale,...   \n",
       "3       Xiaomi             Consumer Electronics, Internet, Mobile   \n",
       "4        maude  Consumer Goods, E-Commerce, Personal Health, W...   \n",
       "\n",
       "            CITY STATE/PROVINCE        COUNTRY EMPLOYEE_CATEGORY  \\\n",
       "0  San Francisco     California  United States             Large   \n",
       "1       Hangzhou       Zhejiang          China        Very Large   \n",
       "2       New York       New York  United States            Medium   \n",
       "3        Beijing        Beijing          China        Very Large   \n",
       "4       Brooklyn       New York  United States             Small   \n",
       "\n",
       "  REVENUE_CATEGORY  YEARS_SINCE_FOUNDED  STATUS  \n",
       "0       Very Large                   18  Exited  \n",
       "1            Large                   10  Active  \n",
       "2            Small                    8  Active  \n",
       "3       Very Large                   14  Exited  \n",
       "4            Small                    6  Active  "
      ]
     },
     "execution_count": 22,
     "metadata": {},
     "output_type": "execute_result"
    }
   ],
   "source": [
    "comp_df.head()"
   ]
  },
  {
   "cell_type": "markdown",
   "metadata": {},
   "source": [
    "### Investment"
   ]
  },
  {
   "cell_type": "code",
   "execution_count": 23,
   "metadata": {},
   "outputs": [
    {
     "name": "stdout",
     "output_type": "stream",
     "text": [
      "--- INVESTMENT Information ---\n",
      "\n",
      "Missing Values:\n",
      "COMPANY_NAME        0\n",
      "FUNDING_TYPE        0\n",
      "MONEY_RAISED        0\n",
      "ANNOUNCED_DATE      0\n",
      "INVESTMENT_STAGE    0\n",
      "dtype: int64\n",
      "\n",
      "Duplicate Rows:\n",
      "1167\n",
      "\n",
      "Descriptive Statistics (Numerical Columns):\n",
      "       COMPANY_NAME FUNDING_TYPE MONEY_RAISED ANNOUNCED_DATE INVESTMENT_STAGE\n",
      "count          5937         5937         5937           5937             5937\n",
      "unique          935           28         1210           2331                5\n",
      "top           Tesla     Series A            —    Dec 8, 2020                —\n",
      "freq             36          854         1028             25             1766\n",
      "\n",
      "Value Counts (Categorical Columns):\n",
      "\n",
      "COMPANY_NAME Value Counts:\n",
      "Tesla              36\n",
      "SpaceX             35\n",
      "Uber               27\n",
      "Ola                25\n",
      "Lucid              23\n",
      "                   ..\n",
      "NEC Corporation     1\n",
      "Orange              1\n",
      "BP                  1\n",
      "Skuad               1\n",
      "Merck               1\n",
      "Name: COMPANY_NAME, Length: 935, dtype: int64\n",
      "\n",
      "FUNDING_TYPE Value Counts:\n",
      "Series A                    854\n",
      "Seed                        762\n",
      "Series B                    701\n",
      "Series C                    582\n",
      "Venture - Series Unknown    558\n",
      "Series D                    375\n",
      "Series E                    264\n",
      "Debt Financing              242\n",
      "Post-IPO Equity             219\n",
      "Secondary Market            211\n",
      "Private Equity              170\n",
      "Series F                    149\n",
      "Pre-Seed                    111\n",
      "Corporate Round             102\n",
      "Grant                        97\n",
      "Post-IPO Debt                82\n",
      "Angel                        81\n",
      "Convertible Note             80\n",
      "Series G                     66\n",
      "Funding Round                55\n",
      "Equity Crowdfunding          50\n",
      "Non-equity Assistance        37\n",
      "Series H                     36\n",
      "Initial Coin Offering        17\n",
      "Series J                     11\n",
      "Post-IPO Secondary           10\n",
      "Series I                      9\n",
      "Product Crowdfunding          6\n",
      "Name: FUNDING_TYPE, dtype: int64\n",
      "\n",
      "MONEY_RAISED Value Counts:\n",
      "—               1028\n",
      "$10,000,000      140\n",
      "$50,000,000      139\n",
      "$100,000,000     116\n",
      "$20,000,000      103\n",
      "                ... \n",
      "$112,500,000       1\n",
      "$15,211,719        1\n",
      "$30,500,000        1\n",
      "₹29,900,000        1\n",
      "$3,510,000         1\n",
      "Name: MONEY_RAISED, Length: 1210, dtype: int64\n",
      "\n",
      "ANNOUNCED_DATE Value Counts:\n",
      "Dec 8, 2020     25\n",
      "Dec 10, 2020    24\n",
      "Dec 17, 2020    19\n",
      "Dec 15, 2020    16\n",
      "Dec 2, 2020     16\n",
      "                ..\n",
      "Oct 16, 2018     1\n",
      "Mar 22, 2015     1\n",
      "Oct 9, 2017      1\n",
      "Sep 13, 2016     1\n",
      "Nov 4, 2013      1\n",
      "Name: ANNOUNCED_DATE, Length: 2331, dtype: int64\n",
      "\n",
      "INVESTMENT_STAGE Value Counts:\n",
      "—                      1766\n",
      "Early Stage Venture    1555\n",
      "Late Stage Venture     1492\n",
      "Seed                    954\n",
      "Private Equity          170\n",
      "Name: INVESTMENT_STAGE, dtype: int64\n"
     ]
    }
   ],
   "source": [
    "profile_dataframe(inv_df, 'INVESTMENT')"
   ]
  },
  {
   "cell_type": "code",
   "execution_count": 24,
   "metadata": {},
   "outputs": [
    {
     "name": "stdout",
     "output_type": "stream",
     "text": [
      "<class 'pandas.core.frame.DataFrame'>\n",
      "RangeIndex: 5937 entries, 0 to 5936\n",
      "Data columns (total 5 columns):\n",
      " #   Column            Non-Null Count  Dtype         \n",
      "---  ------            --------------  -----         \n",
      " 0   COMPANY_NAME      5937 non-null   object        \n",
      " 1   FUNDING_TYPE      5937 non-null   object        \n",
      " 2   MONEY_RAISED      4909 non-null   object        \n",
      " 3   ANNOUNCED_DATE    5937 non-null   datetime64[ns]\n",
      " 4   INVESTMENT_STAGE  4171 non-null   object        \n",
      "dtypes: datetime64[ns](1), object(4)\n",
      "memory usage: 232.0+ KB\n",
      "None\n"
     ]
    }
   ],
   "source": [
    "# Replace '—' with NaN\n",
    "inv_df.replace(\"—\", np.nan, inplace=True)\n",
    "# Use date format for date columns (ANNOUNCED_DATE)\n",
    "inv_df['ANNOUNCED_DATE'] = pd.to_datetime(inv_df['ANNOUNCED_DATE'])\n",
    "print(inv_df.info())"
   ]
  },
  {
   "cell_type": "markdown",
   "metadata": {},
   "source": [
    "#### Money Raised variable"
   ]
  },
  {
   "cell_type": "code",
   "execution_count": 25,
   "metadata": {},
   "outputs": [
    {
     "name": "stdout",
     "output_type": "stream",
     "text": [
      "<class 'pandas.core.frame.DataFrame'>\n",
      "Int64Index: 4909 entries, 0 to 5936\n",
      "Data columns (total 5 columns):\n",
      " #   Column            Non-Null Count  Dtype         \n",
      "---  ------            --------------  -----         \n",
      " 0   COMPANY_NAME      4909 non-null   object        \n",
      " 1   FUNDING_TYPE      4909 non-null   object        \n",
      " 2   MONEY_RAISED      4909 non-null   object        \n",
      " 3   ANNOUNCED_DATE    4909 non-null   datetime64[ns]\n",
      " 4   INVESTMENT_STAGE  3663 non-null   object        \n",
      "dtypes: datetime64[ns](1), object(4)\n",
      "memory usage: 230.1+ KB\n",
      "None\n"
     ]
    }
   ],
   "source": [
    "# Drop all rows where 'MONEY_RAISED' is NaN\n",
    "inv_df.dropna(subset=['MONEY_RAISED'], inplace=True)\n",
    "print(inv_df.info())"
   ]
  },
  {
   "cell_type": "code",
   "execution_count": 26,
   "metadata": {},
   "outputs": [
    {
     "name": "stderr",
     "output_type": "stream",
     "text": [
      "/var/folders/zz/15nqyywn453_0_6jrq9zsqxw0000gp/T/ipykernel_11457/313498923.py:1: FutureWarning: Treating datetime data as categorical rather than numeric in `.describe` is deprecated and will be removed in a future version of pandas. Specify `datetime_is_numeric=True` to silence this warning and adopt the future behavior now.\n",
      "  inv_df['ANNOUNCED_DATE'].describe()\n"
     ]
    },
    {
     "data": {
      "text/plain": [
       "count                    4909\n",
       "unique                   2108\n",
       "top       2020-12-10 00:00:00\n",
       "freq                       24\n",
       "first     1968-07-31 00:00:00\n",
       "last      2021-05-19 00:00:00\n",
       "Name: ANNOUNCED_DATE, dtype: object"
      ]
     },
     "execution_count": 26,
     "metadata": {},
     "output_type": "execute_result"
    }
   ],
   "source": [
    "inv_df['ANNOUNCED_DATE'].describe()     "
   ]
  },
  {
   "cell_type": "code",
   "execution_count": 27,
   "metadata": {},
   "outputs": [
    {
     "data": {
      "text/plain": [
       "$10,000,000     140\n",
       "$50,000,000     139\n",
       "$100,000,000    116\n",
       "$20,000,000     103\n",
       "$25,000,000      96\n",
       "               ... \n",
       "$112,500,000      1\n",
       "$15,211,719       1\n",
       "$30,500,000       1\n",
       "₹29,900,000       1\n",
       "$3,510,000        1\n",
       "Name: MONEY_RAISED, Length: 1209, dtype: int64"
      ]
     },
     "execution_count": 27,
     "metadata": {},
     "output_type": "execute_result"
    }
   ],
   "source": [
    "inv_df['MONEY_RAISED'].value_counts()"
   ]
  },
  {
   "cell_type": "markdown",
   "metadata": {},
   "source": [
    "Since we notice that the prices are expressed in different currencies, we create a new column called CURRENCY (containing the characters that are not numeric of the column MONEY RAISED)"
   ]
  },
  {
   "cell_type": "code",
   "execution_count": 28,
   "metadata": {},
   "outputs": [
    {
     "data": {
      "text/plain": [
       "array(['$', '€', '¥', '₹', '£', 'CA$', 'A$', 'CN¥', 'R$', 'ZAR', 'SGD',\n",
       "       '₩', 'CHF', 'MYR', 'SEK', 'RUB'], dtype=object)"
      ]
     },
     "execution_count": 28,
     "metadata": {},
     "output_type": "execute_result"
    }
   ],
   "source": [
    "inv_df['CURRENCY'] = inv_df['MONEY_RAISED'].str.extract(r'(^[^\\d\\s]+)')  \n",
    "cols = list(inv_df.columns)\n",
    "last_column = cols.pop()  # Remove the last column\n",
    "cols.insert(cols.index('MONEY_RAISED'), last_column)  # Insert it before the MONEY_RAISED column    \n",
    "inv_df = inv_df[cols] \n",
    "inv_df.head()\n",
    "inv_df['CURRENCY'].unique()"
   ]
  },
  {
   "cell_type": "code",
   "execution_count": 29,
   "metadata": {},
   "outputs": [
    {
     "data": {
      "text/html": [
       "<div>\n",
       "<style scoped>\n",
       "    .dataframe tbody tr th:only-of-type {\n",
       "        vertical-align: middle;\n",
       "    }\n",
       "\n",
       "    .dataframe tbody tr th {\n",
       "        vertical-align: top;\n",
       "    }\n",
       "\n",
       "    .dataframe thead th {\n",
       "        text-align: right;\n",
       "    }\n",
       "</style>\n",
       "<table border=\"1\" class=\"dataframe\">\n",
       "  <thead>\n",
       "    <tr style=\"text-align: right;\">\n",
       "      <th></th>\n",
       "      <th>FUNDING_TYPE</th>\n",
       "      <th>CURRENCY</th>\n",
       "      <th>MONEY_RAISED</th>\n",
       "    </tr>\n",
       "  </thead>\n",
       "  <tbody>\n",
       "    <tr>\n",
       "      <th>0</th>\n",
       "      <td>Venture - Series Unknown</td>\n",
       "      <td>$</td>\n",
       "      <td>250,000,000</td>\n",
       "    </tr>\n",
       "    <tr>\n",
       "      <th>1</th>\n",
       "      <td>Series A</td>\n",
       "      <td>$</td>\n",
       "      <td>50,000,000</td>\n",
       "    </tr>\n",
       "    <tr>\n",
       "      <th>2</th>\n",
       "      <td>Seed</td>\n",
       "      <td>$</td>\n",
       "      <td>6,000,000</td>\n",
       "    </tr>\n",
       "    <tr>\n",
       "      <th>3</th>\n",
       "      <td>Seed</td>\n",
       "      <td>$</td>\n",
       "      <td>10,000,000</td>\n",
       "    </tr>\n",
       "    <tr>\n",
       "      <th>4</th>\n",
       "      <td>Seed</td>\n",
       "      <td>$</td>\n",
       "      <td>1,000,000,000</td>\n",
       "    </tr>\n",
       "    <tr>\n",
       "      <th>5</th>\n",
       "      <td>Venture - Series Unknown</td>\n",
       "      <td>$</td>\n",
       "      <td>1,250,000,000</td>\n",
       "    </tr>\n",
       "    <tr>\n",
       "      <th>6</th>\n",
       "      <td>Venture - Series Unknown</td>\n",
       "      <td>$</td>\n",
       "      <td>1,530,000,000</td>\n",
       "    </tr>\n",
       "    <tr>\n",
       "      <th>7</th>\n",
       "      <td>Venture - Series Unknown</td>\n",
       "      <td>$</td>\n",
       "      <td>750,000,000</td>\n",
       "    </tr>\n",
       "    <tr>\n",
       "      <th>8</th>\n",
       "      <td>Corporate Round</td>\n",
       "      <td>$</td>\n",
       "      <td>250,000,000</td>\n",
       "    </tr>\n",
       "    <tr>\n",
       "      <th>10</th>\n",
       "      <td>Series D</td>\n",
       "      <td>$</td>\n",
       "      <td>425,000,000</td>\n",
       "    </tr>\n",
       "  </tbody>\n",
       "</table>\n",
       "</div>"
      ],
      "text/plain": [
       "                FUNDING_TYPE CURRENCY   MONEY_RAISED\n",
       "0   Venture - Series Unknown        $    250,000,000\n",
       "1                   Series A        $     50,000,000\n",
       "2                       Seed        $      6,000,000\n",
       "3                       Seed        $     10,000,000\n",
       "4                       Seed        $  1,000,000,000\n",
       "5   Venture - Series Unknown        $  1,250,000,000\n",
       "6   Venture - Series Unknown        $  1,530,000,000\n",
       "7   Venture - Series Unknown        $    750,000,000\n",
       "8            Corporate Round        $    250,000,000\n",
       "10                  Series D        $    425,000,000"
      ]
     },
     "execution_count": 29,
     "metadata": {},
     "output_type": "execute_result"
    }
   ],
   "source": [
    "# Remove non-numeric characters from the column PRICE so that it can be converted to a numeric data type    \n",
    "inv_df['MONEY_RAISED'] = inv_df['MONEY_RAISED'].str.replace(r'^[^\\d\\s]+', '', regex=True).str.strip()\n",
    "inv_df[['FUNDING_TYPE','CURRENCY','MONEY_RAISED']].head(10)"
   ]
  },
  {
   "cell_type": "code",
   "execution_count": 30,
   "metadata": {},
   "outputs": [
    {
     "name": "stdout",
     "output_type": "stream",
     "text": [
      "0    2.500000e+08\n",
      "1    5.000000e+07\n",
      "2    6.000000e+06\n",
      "3    1.000000e+07\n",
      "4    1.000000e+09\n",
      "Name: MONEY_RAISED, dtype: float64\n"
     ]
    }
   ],
   "source": [
    "# Remove commas from the column MONEY_RAISED and convert it to a numeric data type\n",
    "inv_df['MONEY_RAISED'] = inv_df['MONEY_RAISED'].str.replace(',', '', regex=True)\n",
    "inv_df['MONEY_RAISED'] = inv_df['MONEY_RAISED'].astype(float)\n",
    "\n",
    "print(inv_df['MONEY_RAISED'].head())"
   ]
  },
  {
   "cell_type": "code",
   "execution_count": 31,
   "metadata": {},
   "outputs": [
    {
     "data": {
      "text/html": [
       "<div>\n",
       "<style scoped>\n",
       "    .dataframe tbody tr th:only-of-type {\n",
       "        vertical-align: middle;\n",
       "    }\n",
       "\n",
       "    .dataframe tbody tr th {\n",
       "        vertical-align: top;\n",
       "    }\n",
       "\n",
       "    .dataframe thead th {\n",
       "        text-align: right;\n",
       "    }\n",
       "</style>\n",
       "<table border=\"1\" class=\"dataframe\">\n",
       "  <thead>\n",
       "    <tr style=\"text-align: right;\">\n",
       "      <th></th>\n",
       "      <th>COMPANY_NAME</th>\n",
       "      <th>FUNDING_TYPE</th>\n",
       "      <th>CURRENCY</th>\n",
       "      <th>MONEY_RAISED</th>\n",
       "      <th>ANNOUNCED_DATE</th>\n",
       "      <th>INVESTMENT_STAGE</th>\n",
       "    </tr>\n",
       "  </thead>\n",
       "  <tbody>\n",
       "    <tr>\n",
       "      <th>0</th>\n",
       "      <td>Pipe</td>\n",
       "      <td>Venture - Series Unknown</td>\n",
       "      <td>$</td>\n",
       "      <td>2.500000e+08</td>\n",
       "      <td>2021-03-31</td>\n",
       "      <td>NaN</td>\n",
       "    </tr>\n",
       "    <tr>\n",
       "      <th>1</th>\n",
       "      <td>Pipe</td>\n",
       "      <td>Series A</td>\n",
       "      <td>$</td>\n",
       "      <td>5.000000e+07</td>\n",
       "      <td>2021-03-09</td>\n",
       "      <td>Early Stage Venture</td>\n",
       "    </tr>\n",
       "    <tr>\n",
       "      <th>2</th>\n",
       "      <td>Pipe</td>\n",
       "      <td>Seed</td>\n",
       "      <td>$</td>\n",
       "      <td>6.000000e+06</td>\n",
       "      <td>2020-02-25</td>\n",
       "      <td>Seed</td>\n",
       "    </tr>\n",
       "    <tr>\n",
       "      <th>3</th>\n",
       "      <td>Pipe</td>\n",
       "      <td>Seed</td>\n",
       "      <td>$</td>\n",
       "      <td>1.000000e+07</td>\n",
       "      <td>2020-06-24</td>\n",
       "      <td>Seed</td>\n",
       "    </tr>\n",
       "    <tr>\n",
       "      <th>4</th>\n",
       "      <td>Epic Games</td>\n",
       "      <td>Seed</td>\n",
       "      <td>$</td>\n",
       "      <td>1.000000e+09</td>\n",
       "      <td>2021-04-13</td>\n",
       "      <td>Seed</td>\n",
       "    </tr>\n",
       "  </tbody>\n",
       "</table>\n",
       "</div>"
      ],
      "text/plain": [
       "  COMPANY_NAME              FUNDING_TYPE CURRENCY  MONEY_RAISED  \\\n",
       "0         Pipe  Venture - Series Unknown        $  2.500000e+08   \n",
       "1         Pipe                  Series A        $  5.000000e+07   \n",
       "2         Pipe                      Seed        $  6.000000e+06   \n",
       "3         Pipe                      Seed        $  1.000000e+07   \n",
       "4   Epic Games                      Seed        $  1.000000e+09   \n",
       "\n",
       "  ANNOUNCED_DATE     INVESTMENT_STAGE  \n",
       "0     2021-03-31                  NaN  \n",
       "1     2021-03-09  Early Stage Venture  \n",
       "2     2020-02-25                 Seed  \n",
       "3     2020-06-24                 Seed  \n",
       "4     2021-04-13                 Seed  "
      ]
     },
     "execution_count": 31,
     "metadata": {},
     "output_type": "execute_result"
    }
   ],
   "source": [
    "inv_df.head()"
   ]
  },
  {
   "cell_type": "markdown",
   "metadata": {},
   "source": [
    "### Acquisition"
   ]
  },
  {
   "cell_type": "code",
   "execution_count": 32,
   "metadata": {},
   "outputs": [
    {
     "name": "stdout",
     "output_type": "stream",
     "text": [
      "--- ACQUISITION Information ---\n",
      "\n",
      "Missing Values:\n",
      "COMPANY_NAME        0\n",
      "ACQUIREE_NAME       0\n",
      "ANNOUNCED_DATE      0\n",
      "PRICE               0\n",
      "ACQUISITION_TYPE    0\n",
      "dtype: int64\n",
      "\n",
      "Duplicate Rows:\n",
      "1093\n",
      "\n",
      "Descriptive Statistics (Numerical Columns):\n",
      "       COMPANY_NAME ACQUIREE_NAME ANNOUNCED_DATE PRICE ACQUISITION_TYPE\n",
      "count          5289          5289           5289  5289             5289\n",
      "unique          497          4167           2691   560                6\n",
      "top       Microsoft      Fastlane    May 6, 2021     —      Acquisition\n",
      "freq            235             4             16  3949             4087\n",
      "\n",
      "Value Counts (Categorical Columns):\n",
      "\n",
      "COMPANY_NAME Value Counts:\n",
      "Microsoft        235\n",
      "Cisco            233\n",
      "Google           230\n",
      "Accenture        215\n",
      "EQT              175\n",
      "                ... \n",
      "Manbang Group      1\n",
      "LEAD School        1\n",
      "Ro                 1\n",
      "Draper Esprit      1\n",
      "Auth0              1\n",
      "Name: COMPANY_NAME, Length: 497, dtype: int64\n",
      "\n",
      "ACQUIREE_NAME Value Counts:\n",
      "Fastlane                       4\n",
      "Kabel Baden-Württemberg        4\n",
      "Caviar                         4\n",
      "Endonetics                     3\n",
      "Merck-Consumer Care (MCC)      3\n",
      "                              ..\n",
      "ELATA                          1\n",
      "Scyfer                         1\n",
      "Iridigm Display Corporation    1\n",
      "CSR                            1\n",
      "Apility.io                     1\n",
      "Name: ACQUIREE_NAME, Length: 4167, dtype: int64\n",
      "\n",
      "ANNOUNCED_DATE Value Counts:\n",
      "May 6, 2021     16\n",
      "May 3, 2021     12\n",
      "Apr 12, 2021    10\n",
      "Apr 13, 2021     9\n",
      "Dec 23, 2020     9\n",
      "                ..\n",
      "Dec 21, 2012     1\n",
      "Apr 18, 2011     1\n",
      "Aug 17, 2010     1\n",
      "Feb 3, 2012      1\n",
      "Feb 28, 2018     1\n",
      "Name: ANNOUNCED_DATE, Length: 2691, dtype: int64\n",
      "\n",
      "PRICE Value Counts:\n",
      "—               3949\n",
      "$100,000,000      35\n",
      "$200,000,000      31\n",
      "$50,000,000       27\n",
      "$30,000,000       21\n",
      "                ... \n",
      "£35,000,000        1\n",
      "£30,000,000        1\n",
      "£280,000,000       1\n",
      "€105,000,000       1\n",
      "$60,040,000        1\n",
      "Name: PRICE, Length: 560, dtype: int64\n",
      "\n",
      "ACQUISITION_TYPE Value Counts:\n",
      "Acquisition          4087\n",
      "—                     840\n",
      "Leveraged Buyout      234\n",
      "Acquihire             108\n",
      "Merger                 18\n",
      "Management Buyout       2\n",
      "Name: ACQUISITION_TYPE, dtype: int64\n"
     ]
    }
   ],
   "source": [
    "profile_dataframe(acq_df, 'ACQUISITION')"
   ]
  },
  {
   "cell_type": "code",
   "execution_count": 33,
   "metadata": {},
   "outputs": [
    {
     "name": "stdout",
     "output_type": "stream",
     "text": [
      "<class 'pandas.core.frame.DataFrame'>\n",
      "RangeIndex: 5289 entries, 0 to 5288\n",
      "Data columns (total 5 columns):\n",
      " #   Column            Non-Null Count  Dtype         \n",
      "---  ------            --------------  -----         \n",
      " 0   COMPANY_NAME      5289 non-null   object        \n",
      " 1   ACQUIREE_NAME     5289 non-null   object        \n",
      " 2   ANNOUNCED_DATE    5289 non-null   datetime64[ns]\n",
      " 3   PRICE             1340 non-null   object        \n",
      " 4   ACQUISITION_TYPE  4449 non-null   object        \n",
      "dtypes: datetime64[ns](1), object(4)\n",
      "memory usage: 206.7+ KB\n",
      "None\n"
     ]
    }
   ],
   "source": [
    "# Replace '—' with NaN\n",
    "acq_df.replace(\"—\", np.nan, inplace=True)\n",
    "# Use date format for date columns (ANNOUNCED_DATE)\n",
    "acq_df['ANNOUNCED_DATE'] = pd.to_datetime(acq_df['ANNOUNCED_DATE'])\n",
    "print(acq_df.info())"
   ]
  },
  {
   "cell_type": "markdown",
   "metadata": {},
   "source": [
    "#### Price "
   ]
  },
  {
   "cell_type": "code",
   "execution_count": 34,
   "metadata": {},
   "outputs": [
    {
     "data": {
      "text/plain": [
       "$100,000,000    35\n",
       "$200,000,000    31\n",
       "$50,000,000     27\n",
       "$30,000,000     21\n",
       "$20,000,000     19\n",
       "                ..\n",
       "£35,000,000      1\n",
       "£30,000,000      1\n",
       "£280,000,000     1\n",
       "€105,000,000     1\n",
       "$60,040,000      1\n",
       "Name: PRICE, Length: 559, dtype: int64"
      ]
     },
     "execution_count": 34,
     "metadata": {},
     "output_type": "execute_result"
    }
   ],
   "source": [
    "acq_df['PRICE'].value_counts()"
   ]
  },
  {
   "cell_type": "markdown",
   "metadata": {},
   "source": [
    "Since we notice that the prices are expressed in different currencies, we create a new column called CURRENCY (containing the characters that are not numeric of the column PRICE)"
   ]
  },
  {
   "cell_type": "code",
   "execution_count": 35,
   "metadata": {},
   "outputs": [
    {
     "data": {
      "text/plain": [
       "array(['$', nan, '€', '£', 'A$', 'CA$', 'DKK', 'CHF', 'RUB', '₹', 'CN¥',\n",
       "       'R$', 'SEK'], dtype=object)"
      ]
     },
     "execution_count": 35,
     "metadata": {},
     "output_type": "execute_result"
    }
   ],
   "source": [
    "acq_df['CURRENCY'] = acq_df['PRICE'].str.extract(r'(^[^\\d\\s]+)') \n",
    "cols = list(acq_df.columns)\n",
    "last_column = cols.pop()  # Remove the last column\n",
    "cols.insert(cols.index('PRICE'), last_column)  # Insert it before PRICE\n",
    "acq_df = acq_df[cols] \n",
    "acq_df.head()\n",
    "acq_df['CURRENCY'].unique()"
   ]
  },
  {
   "cell_type": "code",
   "execution_count": 36,
   "metadata": {},
   "outputs": [
    {
     "data": {
      "text/html": [
       "<div>\n",
       "<style scoped>\n",
       "    .dataframe tbody tr th:only-of-type {\n",
       "        vertical-align: middle;\n",
       "    }\n",
       "\n",
       "    .dataframe tbody tr th {\n",
       "        vertical-align: top;\n",
       "    }\n",
       "\n",
       "    .dataframe thead th {\n",
       "        text-align: right;\n",
       "    }\n",
       "</style>\n",
       "<table border=\"1\" class=\"dataframe\">\n",
       "  <thead>\n",
       "    <tr style=\"text-align: right;\">\n",
       "      <th></th>\n",
       "      <th>COMPANY_NAME</th>\n",
       "      <th>ACQUIREE_NAME</th>\n",
       "      <th>ANNOUNCED_DATE</th>\n",
       "      <th>CURRENCY</th>\n",
       "      <th>PRICE</th>\n",
       "      <th>ACQUISITION_TYPE</th>\n",
       "    </tr>\n",
       "  </thead>\n",
       "  <tbody>\n",
       "    <tr>\n",
       "      <th>0</th>\n",
       "      <td>IBM</td>\n",
       "      <td>Turbonomic</td>\n",
       "      <td>2021-04-29</td>\n",
       "      <td>$</td>\n",
       "      <td>2,000,000,000</td>\n",
       "      <td>Acquisition</td>\n",
       "    </tr>\n",
       "    <tr>\n",
       "      <th>1</th>\n",
       "      <td>IBM</td>\n",
       "      <td>myInvenio</td>\n",
       "      <td>2021-04-15</td>\n",
       "      <td>NaN</td>\n",
       "      <td>NaN</td>\n",
       "      <td>Acquisition</td>\n",
       "    </tr>\n",
       "    <tr>\n",
       "      <th>2</th>\n",
       "      <td>IBM</td>\n",
       "      <td>Taos Mountain</td>\n",
       "      <td>2021-01-14</td>\n",
       "      <td>NaN</td>\n",
       "      <td>NaN</td>\n",
       "      <td>Acquisition</td>\n",
       "    </tr>\n",
       "    <tr>\n",
       "      <th>3</th>\n",
       "      <td>IBM</td>\n",
       "      <td>Cloudant</td>\n",
       "      <td>2014-02-24</td>\n",
       "      <td>NaN</td>\n",
       "      <td>NaN</td>\n",
       "      <td>Acquisition</td>\n",
       "    </tr>\n",
       "    <tr>\n",
       "      <th>4</th>\n",
       "      <td>IBM</td>\n",
       "      <td>TruQua</td>\n",
       "      <td>2020-11-16</td>\n",
       "      <td>NaN</td>\n",
       "      <td>NaN</td>\n",
       "      <td>Acquisition</td>\n",
       "    </tr>\n",
       "    <tr>\n",
       "      <th>5</th>\n",
       "      <td>IBM</td>\n",
       "      <td>Nordcloud</td>\n",
       "      <td>2020-12-21</td>\n",
       "      <td>NaN</td>\n",
       "      <td>NaN</td>\n",
       "      <td>Acquisition</td>\n",
       "    </tr>\n",
       "    <tr>\n",
       "      <th>6</th>\n",
       "      <td>IBM</td>\n",
       "      <td>Instana</td>\n",
       "      <td>2020-11-18</td>\n",
       "      <td>NaN</td>\n",
       "      <td>NaN</td>\n",
       "      <td>Acquisition</td>\n",
       "    </tr>\n",
       "    <tr>\n",
       "      <th>7</th>\n",
       "      <td>IBM</td>\n",
       "      <td>7Summits</td>\n",
       "      <td>2021-01-11</td>\n",
       "      <td>NaN</td>\n",
       "      <td>NaN</td>\n",
       "      <td>Acquisition</td>\n",
       "    </tr>\n",
       "    <tr>\n",
       "      <th>8</th>\n",
       "      <td>IBM</td>\n",
       "      <td>Expertus Technologies</td>\n",
       "      <td>2020-12-15</td>\n",
       "      <td>NaN</td>\n",
       "      <td>NaN</td>\n",
       "      <td>Acquisition</td>\n",
       "    </tr>\n",
       "    <tr>\n",
       "      <th>9</th>\n",
       "      <td>IBM</td>\n",
       "      <td>NetObjects</td>\n",
       "      <td>1997-03-19</td>\n",
       "      <td>NaN</td>\n",
       "      <td>NaN</td>\n",
       "      <td>Acquisition</td>\n",
       "    </tr>\n",
       "  </tbody>\n",
       "</table>\n",
       "</div>"
      ],
      "text/plain": [
       "  COMPANY_NAME          ACQUIREE_NAME ANNOUNCED_DATE CURRENCY          PRICE  \\\n",
       "0          IBM             Turbonomic     2021-04-29        $  2,000,000,000   \n",
       "1          IBM              myInvenio     2021-04-15      NaN            NaN   \n",
       "2          IBM          Taos Mountain     2021-01-14      NaN            NaN   \n",
       "3          IBM               Cloudant     2014-02-24      NaN            NaN   \n",
       "4          IBM                 TruQua     2020-11-16      NaN            NaN   \n",
       "5          IBM              Nordcloud     2020-12-21      NaN            NaN   \n",
       "6          IBM                Instana     2020-11-18      NaN            NaN   \n",
       "7          IBM               7Summits     2021-01-11      NaN            NaN   \n",
       "8          IBM  Expertus Technologies     2020-12-15      NaN            NaN   \n",
       "9          IBM             NetObjects     1997-03-19      NaN            NaN   \n",
       "\n",
       "  ACQUISITION_TYPE  \n",
       "0      Acquisition  \n",
       "1      Acquisition  \n",
       "2      Acquisition  \n",
       "3      Acquisition  \n",
       "4      Acquisition  \n",
       "5      Acquisition  \n",
       "6      Acquisition  \n",
       "7      Acquisition  \n",
       "8      Acquisition  \n",
       "9      Acquisition  "
      ]
     },
     "execution_count": 36,
     "metadata": {},
     "output_type": "execute_result"
    }
   ],
   "source": [
    "# Remove non-numeric characters from the column PRICE so that it can be converted to a numeric data type    \n",
    "acq_df['PRICE'] = acq_df['PRICE'].str.replace(r'^[^\\d\\s]+', '', regex=True).str.strip()\n",
    "acq_df.head(10)"
   ]
  },
  {
   "cell_type": "code",
   "execution_count": 37,
   "metadata": {},
   "outputs": [],
   "source": [
    "# Remove commas from the column PRICE and convert it to a numeric data type\n",
    "acq_df['PRICE'] = acq_df['PRICE'].str.replace(',', '', regex=True)\n",
    "acq_df['PRICE'] = acq_df['PRICE'].astype(float)"
   ]
  },
  {
   "cell_type": "code",
   "execution_count": 38,
   "metadata": {},
   "outputs": [
    {
     "data": {
      "text/html": [
       "<div>\n",
       "<style scoped>\n",
       "    .dataframe tbody tr th:only-of-type {\n",
       "        vertical-align: middle;\n",
       "    }\n",
       "\n",
       "    .dataframe tbody tr th {\n",
       "        vertical-align: top;\n",
       "    }\n",
       "\n",
       "    .dataframe thead th {\n",
       "        text-align: right;\n",
       "    }\n",
       "</style>\n",
       "<table border=\"1\" class=\"dataframe\">\n",
       "  <thead>\n",
       "    <tr style=\"text-align: right;\">\n",
       "      <th></th>\n",
       "      <th>COMPANY_NAME</th>\n",
       "      <th>ACQUIREE_NAME</th>\n",
       "      <th>ANNOUNCED_DATE</th>\n",
       "      <th>CURRENCY</th>\n",
       "      <th>PRICE</th>\n",
       "      <th>ACQUISITION_TYPE</th>\n",
       "    </tr>\n",
       "  </thead>\n",
       "  <tbody>\n",
       "    <tr>\n",
       "      <th>0</th>\n",
       "      <td>IBM</td>\n",
       "      <td>Turbonomic</td>\n",
       "      <td>2021-04-29</td>\n",
       "      <td>$</td>\n",
       "      <td>2.000000e+09</td>\n",
       "      <td>Acquisition</td>\n",
       "    </tr>\n",
       "    <tr>\n",
       "      <th>10</th>\n",
       "      <td>IBM</td>\n",
       "      <td>CommQuest Services</td>\n",
       "      <td>1998-04-30</td>\n",
       "      <td>$</td>\n",
       "      <td>2.000000e+08</td>\n",
       "      <td>Acquisition</td>\n",
       "    </tr>\n",
       "    <tr>\n",
       "      <th>13</th>\n",
       "      <td>IBM</td>\n",
       "      <td>Micromuse</td>\n",
       "      <td>2005-12-21</td>\n",
       "      <td>$</td>\n",
       "      <td>8.650000e+08</td>\n",
       "      <td>Acquisition</td>\n",
       "    </tr>\n",
       "    <tr>\n",
       "      <th>19</th>\n",
       "      <td>IBM</td>\n",
       "      <td>Netezza</td>\n",
       "      <td>2010-09-20</td>\n",
       "      <td>$</td>\n",
       "      <td>1.800000e+09</td>\n",
       "      <td>Acquisition</td>\n",
       "    </tr>\n",
       "    <tr>\n",
       "      <th>36</th>\n",
       "      <td>IBM</td>\n",
       "      <td>Tivoli Systems</td>\n",
       "      <td>1996-02-01</td>\n",
       "      <td>$</td>\n",
       "      <td>7.430000e+08</td>\n",
       "      <td>Acquisition</td>\n",
       "    </tr>\n",
       "  </tbody>\n",
       "</table>\n",
       "</div>"
      ],
      "text/plain": [
       "   COMPANY_NAME       ACQUIREE_NAME ANNOUNCED_DATE CURRENCY         PRICE  \\\n",
       "0           IBM          Turbonomic     2021-04-29        $  2.000000e+09   \n",
       "10          IBM  CommQuest Services     1998-04-30        $  2.000000e+08   \n",
       "13          IBM           Micromuse     2005-12-21        $  8.650000e+08   \n",
       "19          IBM             Netezza     2010-09-20        $  1.800000e+09   \n",
       "36          IBM      Tivoli Systems     1996-02-01        $  7.430000e+08   \n",
       "\n",
       "   ACQUISITION_TYPE  \n",
       "0       Acquisition  \n",
       "10      Acquisition  \n",
       "13      Acquisition  \n",
       "19      Acquisition  \n",
       "36      Acquisition  "
      ]
     },
     "execution_count": 38,
     "metadata": {},
     "output_type": "execute_result"
    }
   ],
   "source": [
    "acq_df[acq_df['PRICE'].notna()].head()"
   ]
  },
  {
   "cell_type": "code",
   "execution_count": 39,
   "metadata": {},
   "outputs": [
    {
     "data": {
      "text/html": [
       "<div>\n",
       "<style scoped>\n",
       "    .dataframe tbody tr th:only-of-type {\n",
       "        vertical-align: middle;\n",
       "    }\n",
       "\n",
       "    .dataframe tbody tr th {\n",
       "        vertical-align: top;\n",
       "    }\n",
       "\n",
       "    .dataframe thead th {\n",
       "        text-align: right;\n",
       "    }\n",
       "</style>\n",
       "<table border=\"1\" class=\"dataframe\">\n",
       "  <thead>\n",
       "    <tr style=\"text-align: right;\">\n",
       "      <th></th>\n",
       "      <th>COMPANY_NAME</th>\n",
       "      <th>ACQUIREE_NAME</th>\n",
       "      <th>ANNOUNCED_DATE</th>\n",
       "      <th>CURRENCY</th>\n",
       "      <th>PRICE</th>\n",
       "      <th>ACQUISITION_TYPE</th>\n",
       "    </tr>\n",
       "  </thead>\n",
       "  <tbody>\n",
       "    <tr>\n",
       "      <th>1450</th>\n",
       "      <td>Pfizer</td>\n",
       "      <td>Warner-Lambert</td>\n",
       "      <td>2000-02-07</td>\n",
       "      <td>$</td>\n",
       "      <td>9.000000e+10</td>\n",
       "      <td>Acquisition</td>\n",
       "    </tr>\n",
       "    <tr>\n",
       "      <th>3701</th>\n",
       "      <td>The Walt Disney Company</td>\n",
       "      <td>21st Century Fox</td>\n",
       "      <td>2017-12-14</td>\n",
       "      <td>$</td>\n",
       "      <td>7.130000e+10</td>\n",
       "      <td>Acquisition</td>\n",
       "    </tr>\n",
       "    <tr>\n",
       "      <th>1464</th>\n",
       "      <td>Pfizer</td>\n",
       "      <td>Wyeth Nutritionals</td>\n",
       "      <td>2009-01-23</td>\n",
       "      <td>$</td>\n",
       "      <td>6.800000e+10</td>\n",
       "      <td>Acquisition</td>\n",
       "    </tr>\n",
       "    <tr>\n",
       "      <th>4855</th>\n",
       "      <td>Charter Communications</td>\n",
       "      <td>Spectrum</td>\n",
       "      <td>2015-05-26</td>\n",
       "      <td>$</td>\n",
       "      <td>5.600000e+10</td>\n",
       "      <td>Acquisition</td>\n",
       "    </tr>\n",
       "    <tr>\n",
       "      <th>4056</th>\n",
       "      <td>Medtronic</td>\n",
       "      <td>Covidien</td>\n",
       "      <td>2014-06-15</td>\n",
       "      <td>$</td>\n",
       "      <td>4.290000e+10</td>\n",
       "      <td>Acquisition</td>\n",
       "    </tr>\n",
       "    <tr>\n",
       "      <th>4302</th>\n",
       "      <td>NVIDIA</td>\n",
       "      <td>Arm Holdings</td>\n",
       "      <td>2020-09-13</td>\n",
       "      <td>$</td>\n",
       "      <td>4.000000e+10</td>\n",
       "      <td>Acquisition</td>\n",
       "    </tr>\n",
       "    <tr>\n",
       "      <th>50</th>\n",
       "      <td>IBM</td>\n",
       "      <td>Red Hat</td>\n",
       "      <td>2018-10-28</td>\n",
       "      <td>$</td>\n",
       "      <td>3.400000e+10</td>\n",
       "      <td>Acquisition</td>\n",
       "    </tr>\n",
       "    <tr>\n",
       "      <th>2957</th>\n",
       "      <td>SoftBank</td>\n",
       "      <td>Arm Holdings</td>\n",
       "      <td>2016-07-18</td>\n",
       "      <td>£</td>\n",
       "      <td>2.430000e+10</td>\n",
       "      <td>Acquisition</td>\n",
       "    </tr>\n",
       "    <tr>\n",
       "      <th>3335</th>\n",
       "      <td>Visa</td>\n",
       "      <td>Visa Europe</td>\n",
       "      <td>2015-10-30</td>\n",
       "      <td>$</td>\n",
       "      <td>2.330000e+10</td>\n",
       "      <td>Acquisition</td>\n",
       "    </tr>\n",
       "    <tr>\n",
       "      <th>3287</th>\n",
       "      <td>Liberty Global</td>\n",
       "      <td>Virgin Media</td>\n",
       "      <td>2013-02-05</td>\n",
       "      <td>$</td>\n",
       "      <td>2.330000e+10</td>\n",
       "      <td>Acquisition</td>\n",
       "    </tr>\n",
       "  </tbody>\n",
       "</table>\n",
       "</div>"
      ],
      "text/plain": [
       "                 COMPANY_NAME       ACQUIREE_NAME ANNOUNCED_DATE CURRENCY  \\\n",
       "1450                   Pfizer      Warner-Lambert     2000-02-07        $   \n",
       "3701  The Walt Disney Company    21st Century Fox     2017-12-14        $   \n",
       "1464                   Pfizer  Wyeth Nutritionals     2009-01-23        $   \n",
       "4855   Charter Communications            Spectrum     2015-05-26        $   \n",
       "4056                Medtronic            Covidien     2014-06-15        $   \n",
       "4302                   NVIDIA        Arm Holdings     2020-09-13        $   \n",
       "50                        IBM             Red Hat     2018-10-28        $   \n",
       "2957                 SoftBank        Arm Holdings     2016-07-18        £   \n",
       "3335                     Visa         Visa Europe     2015-10-30        $   \n",
       "3287           Liberty Global        Virgin Media     2013-02-05        $   \n",
       "\n",
       "             PRICE ACQUISITION_TYPE  \n",
       "1450  9.000000e+10      Acquisition  \n",
       "3701  7.130000e+10      Acquisition  \n",
       "1464  6.800000e+10      Acquisition  \n",
       "4855  5.600000e+10      Acquisition  \n",
       "4056  4.290000e+10      Acquisition  \n",
       "4302  4.000000e+10      Acquisition  \n",
       "50    3.400000e+10      Acquisition  \n",
       "2957  2.430000e+10      Acquisition  \n",
       "3335  2.330000e+10      Acquisition  \n",
       "3287  2.330000e+10      Acquisition  "
      ]
     },
     "execution_count": 39,
     "metadata": {},
     "output_type": "execute_result"
    }
   ],
   "source": [
    "acq_df = acq_df.sort_values(by='PRICE', ascending=False)\n",
    "acq_df.head(10)"
   ]
  },
  {
   "cell_type": "markdown",
   "metadata": {},
   "source": [
    "### Employee"
   ]
  },
  {
   "cell_type": "code",
   "execution_count": 40,
   "metadata": {},
   "outputs": [
    {
     "name": "stdout",
     "output_type": "stream",
     "text": [
      "--- EMPLOYEE Information ---\n",
      "\n",
      "Missing Values:\n",
      "EMPLOYEE_MD5            0\n",
      "JOB_TITLES              0\n",
      "COMPANY_NAME            0\n",
      "ATTENDED_SCHOOLS    14118\n",
      "dtype: int64\n",
      "\n",
      "Duplicate Rows:\n",
      "0\n",
      "\n",
      "Descriptive Statistics (Numerical Columns):\n",
      "                            EMPLOYEE_MD5         JOB_TITLES COMPANY_NAME  \\\n",
      "count                              20702              20702        20702   \n",
      "unique                             20702              12308          964   \n",
      "top     aac4a9fe0edc50a77072eae64578a892  Software Engineer    Microsoft   \n",
      "freq                                   1                510         1756   \n",
      "\n",
      "            ATTENDED_SCHOOLS  \n",
      "count                   6584  \n",
      "unique                  2973  \n",
      "top      Stanford University  \n",
      "freq                     159  \n",
      "\n",
      "Value Counts (Categorical Columns):\n",
      "\n",
      "EMPLOYEE_MD5 Value Counts:\n",
      "aac4a9fe0edc50a77072eae64578a892    1\n",
      "fc2f146e25e1a1513d160d73a35408b4    1\n",
      "d7cf814f250a839ae2df6892545a2b25    1\n",
      "b5206d5b1e7e2031d59907f2a8b00428    1\n",
      "8e86ca18f592159ee08813ffb1d7382d    1\n",
      "                                   ..\n",
      "78b2eaf2dadc242dc5f9471144105d6d    1\n",
      "2e1b3828df3f63274701faacbaf37761    1\n",
      "b3b99741d4b1ca00a19e3ab692c7b47d    1\n",
      "fd521d02610cafe8de883fdfe99a8300    1\n",
      "c38442d6eaf4381a97379a05dc840f92    1\n",
      "Name: EMPLOYEE_MD5, Length: 20702, dtype: int64\n",
      "\n",
      "JOB_TITLES Value Counts:\n",
      "Software Engineer                                              510\n",
      "Product Manager                                                232\n",
      "Managing Director                                              186\n",
      "Senior Software Engineer                                       179\n",
      "CEO                                                            157\n",
      "                                                              ... \n",
      "Executive Vice President, General Merchandise, Walmart U.S.      1\n",
      "Executive Vice President, Neighborhood Markets                   1\n",
      "Vice President & Deputy Chief Information Security Officer       1\n",
      "Senior Innovation Manager, Artificial Intelligence               1\n",
      "Digital Channels Specialist Web Analyst                          1\n",
      "Name: JOB_TITLES, Length: 12308, dtype: int64\n",
      "\n",
      "COMPANY_NAME Value Counts:\n",
      "Microsoft     1756\n",
      "Google        1598\n",
      "Facebook       636\n",
      "Intel          626\n",
      "IBM            593\n",
      "              ... \n",
      "Ankorstore       1\n",
      "Arthur AI        1\n",
      "Campuswire       1\n",
      "Launch NY        1\n",
      "Citi             1\n",
      "Name: COMPANY_NAME, Length: 964, dtype: int64\n",
      "\n",
      "ATTENDED_SCHOOLS Value Counts:\n",
      " Stanford University                                                                 159\n",
      " University of California, Berkeley                                                  106\n",
      " Massachusetts Institute of Technology - MIT                                          92\n",
      " Carnegie Mellon University                                                           59\n",
      " Harvard University                                                                   57\n",
      "                                                                                    ... \n",
      " Columbia University Wharton School of the University of Pennsylvania                  1\n",
      " University College London (UCL) Wharton School of the University of Pennsylvania      1\n",
      " IDC Herzliya The Open University                                                      1\n",
      " The College of Management Academic Studies                                            1\n",
      " EAE Business School                                                                   1\n",
      "Name: ATTENDED_SCHOOLS, Length: 2973, dtype: int64\n"
     ]
    }
   ],
   "source": [
    "profile_dataframe(emp_df, 'EMPLOYEE')"
   ]
  },
  {
   "cell_type": "code",
   "execution_count": 41,
   "metadata": {},
   "outputs": [
    {
     "data": {
      "text/html": [
       "<div>\n",
       "<style scoped>\n",
       "    .dataframe tbody tr th:only-of-type {\n",
       "        vertical-align: middle;\n",
       "    }\n",
       "\n",
       "    .dataframe tbody tr th {\n",
       "        vertical-align: top;\n",
       "    }\n",
       "\n",
       "    .dataframe thead th {\n",
       "        text-align: right;\n",
       "    }\n",
       "</style>\n",
       "<table border=\"1\" class=\"dataframe\">\n",
       "  <thead>\n",
       "    <tr style=\"text-align: right;\">\n",
       "      <th></th>\n",
       "      <th>JOB_TITLES</th>\n",
       "      <th>COMPANY_NAME</th>\n",
       "      <th>ATTENDED_SCHOOLS</th>\n",
       "    </tr>\n",
       "  </thead>\n",
       "  <tbody>\n",
       "    <tr>\n",
       "      <th>0</th>\n",
       "      <td>CEO</td>\n",
       "      <td>Twitter</td>\n",
       "      <td>NaN</td>\n",
       "    </tr>\n",
       "    <tr>\n",
       "      <th>1</th>\n",
       "      <td>Co-Founder</td>\n",
       "      <td>Twitter</td>\n",
       "      <td>Northeastern University University of Massach...</td>\n",
       "    </tr>\n",
       "    <tr>\n",
       "      <th>2</th>\n",
       "      <td>Team Member</td>\n",
       "      <td>Twitter</td>\n",
       "      <td>NaN</td>\n",
       "    </tr>\n",
       "    <tr>\n",
       "      <th>3</th>\n",
       "      <td>General Counsel</td>\n",
       "      <td>Twitter</td>\n",
       "      <td>Cornell University New York University School...</td>\n",
       "    </tr>\n",
       "    <tr>\n",
       "      <th>4</th>\n",
       "      <td>VP, Trust &amp; Safety</td>\n",
       "      <td>Twitter</td>\n",
       "      <td>NaN</td>\n",
       "    </tr>\n",
       "  </tbody>\n",
       "</table>\n",
       "</div>"
      ],
      "text/plain": [
       "           JOB_TITLES COMPANY_NAME  \\\n",
       "0                 CEO      Twitter   \n",
       "1          Co-Founder      Twitter   \n",
       "2         Team Member      Twitter   \n",
       "3     General Counsel      Twitter   \n",
       "4  VP, Trust & Safety      Twitter   \n",
       "\n",
       "                                    ATTENDED_SCHOOLS  \n",
       "0                                                NaN  \n",
       "1   Northeastern University University of Massach...  \n",
       "2                                                NaN  \n",
       "3   Cornell University New York University School...  \n",
       "4                                                NaN  "
      ]
     },
     "execution_count": 41,
     "metadata": {},
     "output_type": "execute_result"
    }
   ],
   "source": [
    "# The column 'EMPLOYEE_MD5' does not provide any useful information\n",
    "emp_df.drop(columns=['EMPLOYEE_MD5'], inplace=True)\n",
    "emp_df.head()"
   ]
  },
  {
   "cell_type": "markdown",
   "metadata": {},
   "source": [
    "# Questions"
   ]
  },
  {
   "cell_type": "markdown",
   "metadata": {},
   "source": [
    "## 1. How many companies have received at least one round of investment?"
   ]
  },
  {
   "cell_type": "code",
   "execution_count": 42,
   "metadata": {},
   "outputs": [
    {
     "name": "stdout",
     "output_type": "stream",
     "text": [
      "Number of companies with at least one round of investment: 926\n"
     ]
    }
   ],
   "source": [
    "# Count unique companies in the INVESTMENT worksheet \n",
    "companies_with_investment = inv_df['COMPANY_NAME'].nunique()\n",
    "print(f\"Number of companies with at least one round of investment: {companies_with_investment}\")"
   ]
  },
  {
   "cell_type": "markdown",
   "metadata": {},
   "source": [
    "## 2. What are the distributions of the current status of these companies?"
   ]
  },
  {
   "cell_type": "code",
   "execution_count": 43,
   "metadata": {},
   "outputs": [
    {
     "name": "stdout",
     "output_type": "stream",
     "text": [
      "Distribution of current statuses of companies:\n",
      "Active    629\n",
      "Exited    320\n",
      "Closed      5\n",
      "Name: STATUS, dtype: int64\n"
     ]
    }
   ],
   "source": [
    "status_distribution = comp_df['STATUS'].value_counts()\n",
    "print(\"Distribution of current statuses of companies:\")\n",
    "print(status_distribution)"
   ]
  },
  {
   "cell_type": "code",
   "execution_count": 44,
   "metadata": {},
   "outputs": [
    {
     "data": {
      "image/png": "[encoded data removed]",
      "text/plain": [
       "<Figure size 400x400 with 1 Axes>"
      ]
     },
     "metadata": {},
     "output_type": "display_data"
    }
   ],
   "source": [
    "plt.figure(figsize=(4, 4))\n",
    "status_distribution.plot(kind='pie', autopct='%1.1f%%', startangle=140, colors=['#90ee90','#66b3ff','#ffff99'])\n",
    "plt.title('Distribution of Current Statuses of Companies')\n",
    "plt.ylabel('')\n",
    "plt.show()"
   ]
  },
  {
   "cell_type": "markdown",
   "metadata": {},
   "source": [
    "## 3. On average, how much money has each company received at the Series A round?"
   ]
  },
  {
   "cell_type": "code",
   "execution_count": 45,
   "metadata": {},
   "outputs": [
    {
     "data": {
      "text/plain": [
       "$      0.885720\n",
       "€      0.036871\n",
       "£      0.032797\n",
       "₹      0.020167\n",
       "CA$    0.007130\n",
       "Name: CURRENCY, dtype: float64"
      ]
     },
     "execution_count": 45,
     "metadata": {},
     "output_type": "execute_result"
    }
   ],
   "source": [
    "inv_df['CURRENCY'].value_counts(normalize=True)[:5]"
   ]
  },
  {
   "cell_type": "markdown",
   "metadata": {},
   "source": [
    "Since we can see that some currencies only appear in less than 1% of the records, we will not consider them and we just convert to dollars the records in MONEY_RAISED that are in the currencies that appear most times in our dataset."
   ]
  },
  {
   "cell_type": "code",
   "execution_count": 46,
   "metadata": {},
   "outputs": [
    {
     "data": {
      "text/html": [
       "<div>\n",
       "<style scoped>\n",
       "    .dataframe tbody tr th:only-of-type {\n",
       "        vertical-align: middle;\n",
       "    }\n",
       "\n",
       "    .dataframe tbody tr th {\n",
       "        vertical-align: top;\n",
       "    }\n",
       "\n",
       "    .dataframe thead th {\n",
       "        text-align: right;\n",
       "    }\n",
       "</style>\n",
       "<table border=\"1\" class=\"dataframe\">\n",
       "  <thead>\n",
       "    <tr style=\"text-align: right;\">\n",
       "      <th></th>\n",
       "      <th>COMPANY_NAME</th>\n",
       "      <th>FUNDING_TYPE</th>\n",
       "      <th>CURRENCY</th>\n",
       "      <th>MONEY_RAISED</th>\n",
       "      <th>ANNOUNCED_DATE</th>\n",
       "      <th>INVESTMENT_STAGE</th>\n",
       "    </tr>\n",
       "  </thead>\n",
       "  <tbody>\n",
       "    <tr>\n",
       "      <th>0</th>\n",
       "      <td>Pipe</td>\n",
       "      <td>Venture - Series Unknown</td>\n",
       "      <td>$</td>\n",
       "      <td>2.500000e+08</td>\n",
       "      <td>2021-03-31</td>\n",
       "      <td>NaN</td>\n",
       "    </tr>\n",
       "    <tr>\n",
       "      <th>1</th>\n",
       "      <td>Pipe</td>\n",
       "      <td>Series A</td>\n",
       "      <td>$</td>\n",
       "      <td>5.000000e+07</td>\n",
       "      <td>2021-03-09</td>\n",
       "      <td>Early Stage Venture</td>\n",
       "    </tr>\n",
       "    <tr>\n",
       "      <th>2</th>\n",
       "      <td>Pipe</td>\n",
       "      <td>Seed</td>\n",
       "      <td>$</td>\n",
       "      <td>6.000000e+06</td>\n",
       "      <td>2020-02-25</td>\n",
       "      <td>Seed</td>\n",
       "    </tr>\n",
       "    <tr>\n",
       "      <th>3</th>\n",
       "      <td>Pipe</td>\n",
       "      <td>Seed</td>\n",
       "      <td>$</td>\n",
       "      <td>1.000000e+07</td>\n",
       "      <td>2020-06-24</td>\n",
       "      <td>Seed</td>\n",
       "    </tr>\n",
       "    <tr>\n",
       "      <th>4</th>\n",
       "      <td>Epic Games</td>\n",
       "      <td>Seed</td>\n",
       "      <td>$</td>\n",
       "      <td>1.000000e+09</td>\n",
       "      <td>2021-04-13</td>\n",
       "      <td>Seed</td>\n",
       "    </tr>\n",
       "  </tbody>\n",
       "</table>\n",
       "</div>"
      ],
      "text/plain": [
       "  COMPANY_NAME              FUNDING_TYPE CURRENCY  MONEY_RAISED  \\\n",
       "0         Pipe  Venture - Series Unknown        $  2.500000e+08   \n",
       "1         Pipe                  Series A        $  5.000000e+07   \n",
       "2         Pipe                      Seed        $  6.000000e+06   \n",
       "3         Pipe                      Seed        $  1.000000e+07   \n",
       "4   Epic Games                      Seed        $  1.000000e+09   \n",
       "\n",
       "  ANNOUNCED_DATE     INVESTMENT_STAGE  \n",
       "0     2021-03-31                  NaN  \n",
       "1     2021-03-09  Early Stage Venture  \n",
       "2     2020-02-25                 Seed  \n",
       "3     2020-06-24                 Seed  \n",
       "4     2021-04-13                 Seed  "
      ]
     },
     "execution_count": 46,
     "metadata": {},
     "output_type": "execute_result"
    }
   ],
   "source": [
    "top_4_currencies = ['$','€','£','₹']\n",
    "\n",
    "filtered_currencies = inv_df[inv_df['CURRENCY'].isin(top_4_currencies)]\n",
    "filtered_currencies.head()\n"
   ]
  },
  {
   "cell_type": "code",
   "execution_count": 47,
   "metadata": {},
   "outputs": [
    {
     "data": {
      "text/plain": [
       "count    4.789000e+03\n",
       "mean     1.290490e+08\n",
       "std      5.121625e+08\n",
       "min      6.500000e+03\n",
       "25%      5.000000e+06\n",
       "50%      2.000000e+07\n",
       "75%      7.500000e+07\n",
       "max      1.400000e+10\n",
       "Name: MONEY_RAISED_IN_USD, dtype: float64"
      ]
     },
     "execution_count": 47,
     "metadata": {},
     "output_type": "execute_result"
    }
   ],
   "source": [
    "filtered_data = filtered_currencies[['FUNDING_TYPE', 'CURRENCY', 'MONEY_RAISED']]\n",
    "\n",
    "currency_to_usd = {\n",
    "    '$': 1,           # USD to USD\n",
    "    '€': 1.09,        # Euro to USD\n",
    "    '£': 1.22,        # GBP to USD\n",
    "    '₹': 0.012        # INR to USD\n",
    "}\n",
    "\n",
    "def convert_to_usd(row, currency_col, money_col):\n",
    "    currency = row[currency_col]\n",
    "    money_raised = row[money_col]\n",
    "    return money_raised * currency_to_usd[currency]\n",
    "\n",
    "inv_df['MONEY_RAISED_IN_USD'] = filtered_currencies.apply(\n",
    "    convert_to_usd, \n",
    "    axis=1,\n",
    "    args=('CURRENCY', 'MONEY_RAISED'))\n",
    "\n",
    "inv_df['MONEY_RAISED_IN_USD'].astype(float) \n",
    "inv_df['MONEY_RAISED_IN_USD'].describe()"
   ]
  },
  {
   "cell_type": "code",
   "execution_count": 48,
   "metadata": {},
   "outputs": [],
   "source": [
    "series_a_data = filtered_currencies[filtered_currencies['FUNDING_TYPE'] == 'Series A']"
   ]
  },
  {
   "cell_type": "code",
   "execution_count": 49,
   "metadata": {},
   "outputs": [
    {
     "name": "stdout",
     "output_type": "stream",
     "text": [
      "Average money raised in Series A round for $: 19,020,263.08\n",
      "Average money raised in Series A round for £: 10,800,988.79\n",
      "Average money raised in Series A round for €: 13,466,666.63\n",
      "Average money raised in Series A round for ₹: 351,000,000.00\n"
     ]
    }
   ],
   "source": [
    "average_money_raised = series_a_data.groupby('CURRENCY')['MONEY_RAISED'].mean()\n",
    "\n",
    "for currency, avg in average_money_raised.items():\n",
    "    print(f\"Average money raised in Series A round for {currency}: {avg:,.2f}\")"
   ]
  },
  {
   "cell_type": "markdown",
   "metadata": {},
   "source": [
    "In USD"
   ]
  },
  {
   "cell_type": "code",
   "execution_count": 50,
   "metadata": {},
   "outputs": [
    {
     "name": "stdout",
     "output_type": "stream",
     "text": [
      "Average money raised in Series A in dollars: $18,643,858.92\n"
     ]
    }
   ],
   "source": [
    "average_money_raised_in_usd = inv_df[inv_df['FUNDING_TYPE']=='Series A']['MONEY_RAISED_IN_USD'].mean()\n",
    "print(f\"Average money raised in Series A in dollars: ${average_money_raised_in_usd:,.2f}\")"
   ]
  },
  {
   "cell_type": "markdown",
   "metadata": {},
   "source": [
    "## 4. Which company has the largest number of acquisitions?"
   ]
  },
  {
   "cell_type": "markdown",
   "metadata": {},
   "source": [
    "Since we have a record for every acquisition, we just need to take the company that have the highest value_counts in the dataframe."
   ]
  },
  {
   "cell_type": "code",
   "execution_count": 51,
   "metadata": {},
   "outputs": [
    {
     "data": {
      "text/plain": [
       "Microsoft    235\n",
       "Cisco        233\n",
       "Google       230\n",
       "Name: COMPANY_NAME, dtype: int64"
      ]
     },
     "execution_count": 51,
     "metadata": {},
     "output_type": "execute_result"
    }
   ],
   "source": [
    "acq_df['COMPANY_NAME'].value_counts()[:3]"
   ]
  },
  {
   "cell_type": "markdown",
   "metadata": {},
   "source": [
    "The runner-up is very close!"
   ]
  },
  {
   "cell_type": "code",
   "execution_count": 52,
   "metadata": {},
   "outputs": [
    {
     "name": "stdout",
     "output_type": "stream",
     "text": [
      "Company with the largest number of acquisitions: Microsoft (235 acquisitions)\n"
     ]
    }
   ],
   "source": [
    "acquisitions_count = acq_df['COMPANY_NAME'].value_counts()\n",
    "top_acquirer = acquisitions_count.idxmax()\n",
    "top_acquisition_count = acquisitions_count.max()\n",
    "print(f\"Company with the largest number of acquisitions: {top_acquirer} ({top_acquisition_count} acquisitions)\")"
   ]
  },
  {
   "cell_type": "markdown",
   "metadata": {},
   "source": [
    "## 5. Which of these companies have CEOs graduated from a Ivy League school?"
   ]
  },
  {
   "cell_type": "code",
   "execution_count": 53,
   "metadata": {},
   "outputs": [
    {
     "name": "stdout",
     "output_type": "stream",
     "text": [
      "Companies with CEOs who graduated from a top school:\n",
      "['Google' 'Berkshire Hathaway' 'Moderna Therapeutics' 'Snapdeal'\n",
      " 'Voyager Space Holdings' 'Amazon Web Services' 'Thumbtack' 'Facebook'\n",
      " 'CARS24' 'Etsy' 'Acorns' 'Pave' 'Eat Just, Inc.' 'InMobi' '1mg'\n",
      " 'Microsoft' 'Uber' 'Figma' 'Tesla' 'Ripple' 'Warby Parker' 'Compass'\n",
      " '23andMe' 'Cyble' 'SoFi' 'Zuora' 'Upstart' 'Cloudflare'\n",
      " 'Incredible Health' 'PubMatic' 'Citigroup' 'Silver Lake' 'Expanse'\n",
      " 'Wayfair' 'Lyra Health' 'Upwork' 'Workday' 'Groupon' 'Butterfly Network'\n",
      " 'Teladoc' 'Bread' 'Vox Media' 'Chooch AI' 'Liberty Global' 'Cadre'\n",
      " 'Finix Payments' 'Honor' 'Mulberry Platform' 'Landit' 'Minerva'\n",
      " 'Morgan Stanley' 'AppsFlyer' 'Investcorp' 'Funding Societies'\n",
      " 'MercadoLibre' 'MediaMath' 'Coupa Software' 'Roche' 'OneWeb' 'Hims'\n",
      " 'SmartAsset' 'Omada Health' 'Comcast' 'Outreach' 'Transfix' 'Foursquare'\n",
      " 'Beeswax' 'CareAcademy' 'Vonage' 'Verbit' 'View' 'Somatus'\n",
      " 'T. Rowe Price' 'Parallel Domain' 'OZY Media' 'SecurityScorecard' 'Rover'\n",
      " 'Mayo Clinic' 'Airship' 'Jopwell' 'MuleSoft' 'ExecOnline' 'BlocPower'\n",
      " 'Corning']\n"
     ]
    }
   ],
   "source": [
    "ivy_league_schools = ['Brown', 'Columbia', 'Cornell', 'Dartmouth', 'Harvard', 'University of Pennsylvania', 'Princeton','Yale']\n",
    "# Filter rows to obtain new dataframe where the JOB_TITLES column contains 'CEO' or 'Chief Executive Officer'\n",
    "ceos = emp_df[emp_df['JOB_TITLES'].str.contains('CEO|Chief Executive Officer')]\n",
    "# Filter rows to obtain new dataframe where the ATTENDED_SCHOOLS column contains any of the ivy league schools\n",
    "ceos_ivy_schools = ceos[ceos['ATTENDED_SCHOOLS'].apply(lambda schools: any(ivy_school in str(schools) for ivy_school in ivy_league_schools))]\n",
    "companies_with_top_school_ceos = ceos_ivy_schools['COMPANY_NAME'].unique()\n",
    "print(\"Companies with CEOs who graduated from a top school:\")\n",
    "print(companies_with_top_school_ceos)"
   ]
  },
  {
   "cell_type": "markdown",
   "metadata": {},
   "source": [
    "## 6. 10 Companies that Raised the Highest Amount of Money?"
   ]
  },
  {
   "cell_type": "code",
   "execution_count": 54,
   "metadata": {},
   "outputs": [
    {
     "name": "stdout",
     "output_type": "stream",
     "text": [
      "The 10 companies that raised the highest amount of money are: ['Reliance Jio' 'Tesla' 'Facebook' 'Ant Group' 'Meituan' 'Uber' 'Didi'\n",
      " 'BP' 'Sberbank' 'Siemens']\n"
     ]
    }
   ],
   "source": [
    "grouped_df = inv_df.groupby('COMPANY_NAME')['MONEY_RAISED_IN_USD'].sum().reset_index()\n",
    "# Sort the companies by the total amount raised in descending order and select the top 10\n",
    "top_10_companies = grouped_df.sort_values(by='MONEY_RAISED_IN_USD', ascending=False).head(10)\n",
    "company_names = top_10_companies['COMPANY_NAME'].values \n",
    "\n",
    "print(f\"The 10 companies that raised the highest amount of money are: {company_names}\")"
   ]
  },
  {
   "cell_type": "code",
   "execution_count": 82,
   "metadata": {},
   "outputs": [
    {
     "data": {
      "text/plain": [
       "<Figure size 1200x600 with 0 Axes>"
      ]
     },
     "metadata": {},
     "output_type": "display_data"
    },
    {
     "data": {
      "image/png": "[encoded data removed]",
      "text/plain": [
       "<Figure size 640x480 with 1 Axes>"
      ]
     },
     "metadata": {},
     "output_type": "display_data"
    }
   ],
   "source": [
    "# Create a bar plot to show the ten companies that raised the most money and the amount they raised\n",
    "plt.figure(figsize=(12, 6))\n",
    "top_10_companies.plot(kind='bar', x='COMPANY_NAME', y='MONEY_RAISED_IN_USD', legend=False, color='#90ee90')\n",
    "plt.title('Top 10 Companies by Money Raised')\n",
    "plt.xlabel('Company Name')\n",
    "plt.ylabel('Money Raised in USD')\n",
    "plt.xticks(rotation=45, ha='right')\n",
    "plt.tight_layout()\n",
    "plt.show()"
   ]
  },
  {
   "cell_type": "markdown",
   "metadata": {},
   "source": [
    "## 7. Most Common Categories of Companies "
   ]
  },
  {
   "cell_type": "code",
   "execution_count": 56,
   "metadata": {},
   "outputs": [
    {
     "name": "stdout",
     "output_type": "stream",
     "text": [
      "Software                  289\n",
      "FinTech                   146\n",
      "Financial Services        143\n",
      "SaaS                      142\n",
      "Information Technology    134\n",
      "Internet                  129\n",
      "E-Commerce                119\n",
      "Enterprise Software       114\n",
      "Finance                    99\n",
      "Health Care                90\n",
      "dtype: int64\n"
     ]
    }
   ],
   "source": [
    "# Create a series of lists where each list contains the sector categories for a company\n",
    "all_sectors = comp_df['CATEGORY'].apply(lambda x: x.split(', ') if isinstance(x, str) else [])\n",
    "# Create a big list of all sectors cateogies together \n",
    "flat_sectors = [sector for sublist in all_sectors for sector in sublist]\n",
    "sector_counts = pd.Series(flat_sectors).value_counts()\n",
    "print(sector_counts[:10])"
   ]
  },
  {
   "cell_type": "code",
   "execution_count": 57,
   "metadata": {},
   "outputs": [
    {
     "data": {
      "image/png": "[encoded data removed]",
      "text/plain": [
       "<Figure size 1200x600 with 1 Axes>"
      ]
     },
     "metadata": {},
     "output_type": "display_data"
    }
   ],
   "source": [
    "sector_counts = sector_counts[:10]\n",
    "plt.figure(figsize=(12, 6))\n",
    "sector_counts.plot(kind='bar')\n",
    "plt.title('Company Sectors')\n",
    "plt.xlabel('Sectors')\n",
    "plt.ylabel('Count')\n",
    "plt.xticks(rotation=45, ha='right')\n",
    "plt.tight_layout()\n",
    "plt.show()"
   ]
  },
  {
   "cell_type": "markdown",
   "metadata": {},
   "source": [
    "## 8. Where are the companies with the highest revenue range located? "
   ]
  },
  {
   "cell_type": "code",
   "execution_count": 84,
   "metadata": {},
   "outputs": [
    {
     "data": {
      "text/plain": [
       "<AxesSubplot:>"
      ]
     },
     "execution_count": 84,
     "metadata": {},
     "output_type": "execute_result"
    },
    {
     "data": {
      "image/png": "[encoded data removed]",
      "text/plain": [
       "<Figure size 640x480 with 1 Axes>"
      ]
     },
     "metadata": {},
     "output_type": "display_data"
    }
   ],
   "source": [
    "comp_df[comp_df['REVENUE_CATEGORY']=='Very Large']['COUNTRY'].value_counts().head(10).plot.barh(color='#66b3ff')"
   ]
  },
  {
   "cell_type": "code",
   "execution_count": 83,
   "metadata": {},
   "outputs": [
    {
     "data": {
      "text/plain": [
       "<AxesSubplot:>"
      ]
     },
     "execution_count": 83,
     "metadata": {},
     "output_type": "execute_result"
    },
    {
     "data": {
      "image/png": "[encoded data removed]",
      "text/plain": [
       "<Figure size 640x480 with 1 Axes>"
      ]
     },
     "metadata": {},
     "output_type": "display_data"
    }
   ],
   "source": [
    "comp_df[(comp_df['REVENUE_CATEGORY'] == 'Very Large') & (comp_df['COUNTRY'] == 'United States')]['CITY'].value_counts().head(10).plot.barh(color='skyblue') "
   ]
  },
  {
   "cell_type": "markdown",
   "metadata": {},
   "source": [
    "## 9. Average, Min, Max and Total Prices paid for Acquisitions"
   ]
  },
  {
   "cell_type": "code",
   "execution_count": 60,
   "metadata": {},
   "outputs": [
    {
     "data": {
      "text/plain": [
       "$      0.870149\n",
       "€      0.067164\n",
       "£      0.025373\n",
       "CA$    0.009701\n",
       "CN¥    0.009701\n",
       "₹      0.005970\n",
       "RUB    0.004478\n",
       "A$     0.002985\n",
       "CHF    0.001493\n",
       "R$     0.001493\n",
       "DKK    0.000746\n",
       "SEK    0.000746\n",
       "Name: CURRENCY, dtype: float64"
      ]
     },
     "execution_count": 60,
     "metadata": {},
     "output_type": "execute_result"
    }
   ],
   "source": [
    "acq_df['CURRENCY'].value_counts(normalize=True)#[:5]"
   ]
  },
  {
   "cell_type": "markdown",
   "metadata": {},
   "source": [
    "We follow the same procedure that we used for the MONEY_RAISED. Here there are only three currencies appear in more than 1% or the records so we will only coonsider three currencies."
   ]
  },
  {
   "cell_type": "code",
   "execution_count": 61,
   "metadata": {},
   "outputs": [
    {
     "data": {
      "text/html": [
       "<div>\n",
       "<style scoped>\n",
       "    .dataframe tbody tr th:only-of-type {\n",
       "        vertical-align: middle;\n",
       "    }\n",
       "\n",
       "    .dataframe tbody tr th {\n",
       "        vertical-align: top;\n",
       "    }\n",
       "\n",
       "    .dataframe thead th {\n",
       "        text-align: right;\n",
       "    }\n",
       "</style>\n",
       "<table border=\"1\" class=\"dataframe\">\n",
       "  <thead>\n",
       "    <tr style=\"text-align: right;\">\n",
       "      <th></th>\n",
       "      <th>COMPANY_NAME</th>\n",
       "      <th>ACQUIREE_NAME</th>\n",
       "      <th>ANNOUNCED_DATE</th>\n",
       "      <th>CURRENCY</th>\n",
       "      <th>PRICE</th>\n",
       "      <th>ACQUISITION_TYPE</th>\n",
       "    </tr>\n",
       "  </thead>\n",
       "  <tbody>\n",
       "    <tr>\n",
       "      <th>1450</th>\n",
       "      <td>Pfizer</td>\n",
       "      <td>Warner-Lambert</td>\n",
       "      <td>2000-02-07</td>\n",
       "      <td>$</td>\n",
       "      <td>9.000000e+10</td>\n",
       "      <td>Acquisition</td>\n",
       "    </tr>\n",
       "    <tr>\n",
       "      <th>3701</th>\n",
       "      <td>The Walt Disney Company</td>\n",
       "      <td>21st Century Fox</td>\n",
       "      <td>2017-12-14</td>\n",
       "      <td>$</td>\n",
       "      <td>7.130000e+10</td>\n",
       "      <td>Acquisition</td>\n",
       "    </tr>\n",
       "    <tr>\n",
       "      <th>1464</th>\n",
       "      <td>Pfizer</td>\n",
       "      <td>Wyeth Nutritionals</td>\n",
       "      <td>2009-01-23</td>\n",
       "      <td>$</td>\n",
       "      <td>6.800000e+10</td>\n",
       "      <td>Acquisition</td>\n",
       "    </tr>\n",
       "    <tr>\n",
       "      <th>4855</th>\n",
       "      <td>Charter Communications</td>\n",
       "      <td>Spectrum</td>\n",
       "      <td>2015-05-26</td>\n",
       "      <td>$</td>\n",
       "      <td>5.600000e+10</td>\n",
       "      <td>Acquisition</td>\n",
       "    </tr>\n",
       "    <tr>\n",
       "      <th>4056</th>\n",
       "      <td>Medtronic</td>\n",
       "      <td>Covidien</td>\n",
       "      <td>2014-06-15</td>\n",
       "      <td>$</td>\n",
       "      <td>4.290000e+10</td>\n",
       "      <td>Acquisition</td>\n",
       "    </tr>\n",
       "  </tbody>\n",
       "</table>\n",
       "</div>"
      ],
      "text/plain": [
       "                 COMPANY_NAME       ACQUIREE_NAME ANNOUNCED_DATE CURRENCY  \\\n",
       "1450                   Pfizer      Warner-Lambert     2000-02-07        $   \n",
       "3701  The Walt Disney Company    21st Century Fox     2017-12-14        $   \n",
       "1464                   Pfizer  Wyeth Nutritionals     2009-01-23        $   \n",
       "4855   Charter Communications            Spectrum     2015-05-26        $   \n",
       "4056                Medtronic            Covidien     2014-06-15        $   \n",
       "\n",
       "             PRICE ACQUISITION_TYPE  \n",
       "1450  9.000000e+10      Acquisition  \n",
       "3701  7.130000e+10      Acquisition  \n",
       "1464  6.800000e+10      Acquisition  \n",
       "4855  5.600000e+10      Acquisition  \n",
       "4056  4.290000e+10      Acquisition  "
      ]
     },
     "execution_count": 61,
     "metadata": {},
     "output_type": "execute_result"
    }
   ],
   "source": [
    "top_currencies = ['$','€','£']\n",
    "\n",
    "filtered_currencies = acq_df[acq_df['CURRENCY'].isin(top_currencies)]\n",
    "filtered_currencies.head()"
   ]
  },
  {
   "cell_type": "code",
   "execution_count": 62,
   "metadata": {},
   "outputs": [
    {
     "data": {
      "text/plain": [
       "count    1.290000e+03\n",
       "mean     1.410204e+09\n",
       "std      5.184670e+09\n",
       "min      2.500000e+04\n",
       "25%      5.996250e+07\n",
       "50%      2.000000e+08\n",
       "75%      7.215700e+08\n",
       "max      9.000000e+10\n",
       "Name: PRICE_IN_USD, dtype: float64"
      ]
     },
     "execution_count": 62,
     "metadata": {},
     "output_type": "execute_result"
    }
   ],
   "source": [
    "acq_df['PRICE_IN_USD'] = filtered_currencies.apply(\n",
    "    convert_to_usd, \n",
    "    axis=1,\n",
    "    args=('CURRENCY', 'PRICE'))\n",
    "\n",
    "acq_df['PRICE_IN_USD'].astype(float) \n",
    "acq_df['PRICE_IN_USD'].describe()"
   ]
  },
  {
   "cell_type": "code",
   "execution_count": 63,
   "metadata": {},
   "outputs": [
    {
     "name": "stdout",
     "output_type": "stream",
     "text": [
      "The total amount spent on acquisitions in USD is: $1,819,162,978,498.00\n",
      "The average amount spent on acquisitions in USD is: $1,410,203,859.30\n",
      "The minimum amount spent on an acquisition in USD is: $25,000.00\n",
      "The maximum amount spent on an acquisition in USD is: $90,000,000,000.00\n"
     ]
    }
   ],
   "source": [
    "print(f\"The total amount spent on acquisitions in USD is: ${acq_df['PRICE_IN_USD'].sum():,.2f}\")\n",
    "print(f\"The average amount spent on acquisitions in USD is: ${acq_df['PRICE_IN_USD'].mean():,.2f}\")\n",
    "print(f\"The minimum amount spent on an acquisition in USD is: ${acq_df['PRICE_IN_USD'].min():,.2f}\")\n",
    "print(f\"The maximum amount spent on an acquisition in USD is: ${acq_df['PRICE_IN_USD'].max():,.2f}\")"
   ]
  },
  {
   "cell_type": "markdown",
   "metadata": {},
   "source": [
    "## 10. Is there a period in time where most expensive acquisition were made?"
   ]
  },
  {
   "cell_type": "code",
   "execution_count": 64,
   "metadata": {},
   "outputs": [
    {
     "data": {
      "image/png": "[encoded data removed]",
      "text/plain": [
       "<Figure size 1000x600 with 1 Axes>"
      ]
     },
     "metadata": {},
     "output_type": "display_data"
    }
   ],
   "source": [
    "plt.figure(figsize=(10, 6))\n",
    "plt.scatter(acq_df['ANNOUNCED_DATE'], acq_df['PRICE_IN_USD'], marker='o')\n",
    "plt.title('Price of Acquisition vs Announced Date')\n",
    "plt.xlabel('Announced Date')\n",
    "plt.ylabel('Price in USD')\n",
    "plt.grid(True)\n",
    "plt.show()"
   ]
  },
  {
   "cell_type": "code",
   "execution_count": 65,
   "metadata": {},
   "outputs": [
    {
     "data": {
      "image/png": "[encoded data removed]",
      "text/plain": [
       "<Figure size 1000x600 with 1 Axes>"
      ]
     },
     "metadata": {},
     "output_type": "display_data"
    }
   ],
   "source": [
    "acq_df_after_2000 = acq_df[acq_df['ANNOUNCED_DATE'].dt.year > 2000]\n",
    "\n",
    "plt.figure(figsize=(10, 6))\n",
    "plt.scatter(acq_df_after_2000['ANNOUNCED_DATE'], acq_df_after_2000['PRICE_IN_USD'], marker='o')\n",
    "plt.title('Price of Acquisition vs Announced Date (After 2000)')\n",
    "plt.xlabel('Announced Date')\n",
    "plt.ylabel('Price in USD')\n",
    "plt.grid(True)\n",
    "plt.show()"
   ]
  },
  {
   "cell_type": "markdown",
   "metadata": {},
   "source": [
    "It looks like most of the acquisitions were made in the period between 2014 and 2018. However, the most expansive acquisition was made in the year 2000."
   ]
  },
  {
   "cell_type": "code",
   "execution_count": 66,
   "metadata": {},
   "outputs": [
    {
     "name": "stdout",
     "output_type": "stream",
     "text": [
      "The most expansive acquisition is:\n",
      "COMPANY_NAME                     Pfizer\n",
      "ACQUIREE_NAME            Warner-Lambert\n",
      "ANNOUNCED_DATE      2000-02-07 00:00:00\n",
      "CURRENCY                              $\n",
      "PRICE                     90000000000.0\n",
      "ACQUISITION_TYPE            Acquisition\n",
      "PRICE_IN_USD              90000000000.0\n",
      "Name: 1450, dtype: object\n"
     ]
    }
   ],
   "source": [
    "acquisitions_2000 = acq_df[acq_df['ANNOUNCED_DATE'].dt.year == 2000]\n",
    "highest_price_2000 = acquisitions_2000.loc[acquisitions_2000['PRICE_IN_USD'].idxmax()]\n",
    "\n",
    "print(\"The most expansive acquisition is:\")\n",
    "print(highest_price_2000)"
   ]
  },
  {
   "cell_type": "markdown",
   "metadata": {},
   "source": [
    "## 11. What is the percentage of data scientists in these companies? "
   ]
  },
  {
   "cell_type": "code",
   "execution_count": 67,
   "metadata": {},
   "outputs": [
    {
     "name": "stdout",
     "output_type": "stream",
     "text": [
      "Number of employees in our dataframe: 20702\n"
     ]
    }
   ],
   "source": [
    "num_employees = emp_df.shape[0]\n",
    "print(f\"Number of employees in our dataframe: {num_employees}\")"
   ]
  },
  {
   "cell_type": "markdown",
   "metadata": {},
   "source": [
    "See all the Job Titles that contain \"Data Scientist\" or \"Data Science\" in the name "
   ]
  },
  {
   "cell_type": "code",
   "execution_count": 68,
   "metadata": {},
   "outputs": [
    {
     "data": {
      "text/plain": [
       "Data Scientist                                     76\n",
       "Senior Data Scientist                              30\n",
       "Head of Data Science                                7\n",
       "Director of Data Science                            7\n",
       "Chief Data Scientist                                6\n",
       "                                                   ..\n",
       "Senior Data Scientist, Applied Machine Learning     1\n",
       "AI Senior Data Scientist                            1\n",
       "Data Scientist II                                   1\n",
       "Principal Data Science Manager                      1\n",
       "Head of Data Science, Asia Pacific                  1\n",
       "Name: JOB_TITLES, Length: 111, dtype: int64"
      ]
     },
     "execution_count": 68,
     "metadata": {},
     "output_type": "execute_result"
    }
   ],
   "source": [
    "emp_df[emp_df['JOB_TITLES'].str.contains('Data Scientist|Data Science', na=False)]['JOB_TITLES'].value_counts()"
   ]
  },
  {
   "cell_type": "code",
   "execution_count": 69,
   "metadata": {},
   "outputs": [
    {
     "name": "stdout",
     "output_type": "stream",
     "text": [
      "Number of Data Scientists in the companies : 250\n"
     ]
    }
   ],
   "source": [
    "# Sum them all\n",
    "data_scientists = emp_df['JOB_TITLES'].str.contains('Data Scientist|Data Science').sum()\n",
    "print(f\"Number of Data Scientists in the companies : {data_scientists}\")     "
   ]
  },
  {
   "cell_type": "code",
   "execution_count": 70,
   "metadata": {},
   "outputs": [
    {
     "name": "stdout",
     "output_type": "stream",
     "text": [
      "The percentage of Data Scientists in the dataset is 1.21%\n"
     ]
    }
   ],
   "source": [
    "percentage_data_scientists = (data_scientists / num_employees) * 100\n",
    "print(f\"The percentage of Data Scientists in the dataset is {percentage_data_scientists:.2f}%\")"
   ]
  },
  {
   "cell_type": "markdown",
   "metadata": {},
   "source": [
    "## 12. Which schools did these data scientists attend?"
   ]
  },
  {
   "cell_type": "code",
   "execution_count": 71,
   "metadata": {},
   "outputs": [
    {
     "name": "stdout",
     "output_type": "stream",
     "text": [
      " Northwestern University                            3\n",
      " Stanford University                                2\n",
      " Yale University                                    2\n",
      " Carnegie Mellon University University of Mumbai    1\n",
      " University of Exeter                               1\n",
      "Name: ATTENDED_SCHOOLS, dtype: int64\n"
     ]
    }
   ],
   "source": [
    "data_scientists = emp_df[emp_df['JOB_TITLES'].str.contains('Data Scientist|Data Science')]\n",
    "data_science_schools  = data_scientists['ATTENDED_SCHOOLS'].value_counts()[:5]\n",
    "print(data_science_schools)    "
   ]
  },
  {
   "cell_type": "markdown",
   "metadata": {},
   "source": [
    "## 13. Top 10 Schools of Employees in Tech Companies"
   ]
  },
  {
   "cell_type": "code",
   "execution_count": 72,
   "metadata": {},
   "outputs": [
    {
     "data": {
      "text/html": [
       "<div>\n",
       "<style scoped>\n",
       "    .dataframe tbody tr th:only-of-type {\n",
       "        vertical-align: middle;\n",
       "    }\n",
       "\n",
       "    .dataframe tbody tr th {\n",
       "        vertical-align: top;\n",
       "    }\n",
       "\n",
       "    .dataframe thead th {\n",
       "        text-align: right;\n",
       "    }\n",
       "</style>\n",
       "<table border=\"1\" class=\"dataframe\">\n",
       "  <thead>\n",
       "    <tr style=\"text-align: right;\">\n",
       "      <th></th>\n",
       "      <th>COMPANY_NAME</th>\n",
       "      <th>CATEGORY</th>\n",
       "      <th>CITY</th>\n",
       "      <th>STATE/PROVINCE</th>\n",
       "      <th>COUNTRY</th>\n",
       "      <th>EMPLOYEE_CATEGORY</th>\n",
       "      <th>REVENUE_CATEGORY</th>\n",
       "      <th>YEARS_SINCE_FOUNDED</th>\n",
       "      <th>STATUS</th>\n",
       "      <th>JOB_TITLES</th>\n",
       "      <th>ATTENDED_SCHOOLS</th>\n",
       "    </tr>\n",
       "  </thead>\n",
       "  <tbody>\n",
       "    <tr>\n",
       "      <th>0</th>\n",
       "      <td>Twitter</td>\n",
       "      <td>Blogging Platforms, Messaging, SMS, Social Media</td>\n",
       "      <td>San Francisco</td>\n",
       "      <td>California</td>\n",
       "      <td>United States</td>\n",
       "      <td>Large</td>\n",
       "      <td>Very Large</td>\n",
       "      <td>18</td>\n",
       "      <td>Exited</td>\n",
       "      <td>CEO</td>\n",
       "      <td>NaN</td>\n",
       "    </tr>\n",
       "    <tr>\n",
       "      <th>1</th>\n",
       "      <td>Twitter</td>\n",
       "      <td>Blogging Platforms, Messaging, SMS, Social Media</td>\n",
       "      <td>San Francisco</td>\n",
       "      <td>California</td>\n",
       "      <td>United States</td>\n",
       "      <td>Large</td>\n",
       "      <td>Very Large</td>\n",
       "      <td>18</td>\n",
       "      <td>Exited</td>\n",
       "      <td>Co-Founder</td>\n",
       "      <td>Northeastern University University of Massach...</td>\n",
       "    </tr>\n",
       "    <tr>\n",
       "      <th>2</th>\n",
       "      <td>Twitter</td>\n",
       "      <td>Blogging Platforms, Messaging, SMS, Social Media</td>\n",
       "      <td>San Francisco</td>\n",
       "      <td>California</td>\n",
       "      <td>United States</td>\n",
       "      <td>Large</td>\n",
       "      <td>Very Large</td>\n",
       "      <td>18</td>\n",
       "      <td>Exited</td>\n",
       "      <td>Team Member</td>\n",
       "      <td>NaN</td>\n",
       "    </tr>\n",
       "    <tr>\n",
       "      <th>3</th>\n",
       "      <td>Twitter</td>\n",
       "      <td>Blogging Platforms, Messaging, SMS, Social Media</td>\n",
       "      <td>San Francisco</td>\n",
       "      <td>California</td>\n",
       "      <td>United States</td>\n",
       "      <td>Large</td>\n",
       "      <td>Very Large</td>\n",
       "      <td>18</td>\n",
       "      <td>Exited</td>\n",
       "      <td>General Counsel</td>\n",
       "      <td>Cornell University New York University School...</td>\n",
       "    </tr>\n",
       "    <tr>\n",
       "      <th>4</th>\n",
       "      <td>Twitter</td>\n",
       "      <td>Blogging Platforms, Messaging, SMS, Social Media</td>\n",
       "      <td>San Francisco</td>\n",
       "      <td>California</td>\n",
       "      <td>United States</td>\n",
       "      <td>Large</td>\n",
       "      <td>Very Large</td>\n",
       "      <td>18</td>\n",
       "      <td>Exited</td>\n",
       "      <td>VP, Trust &amp; Safety</td>\n",
       "      <td>NaN</td>\n",
       "    </tr>\n",
       "  </tbody>\n",
       "</table>\n",
       "</div>"
      ],
      "text/plain": [
       "  COMPANY_NAME                                          CATEGORY  \\\n",
       "0      Twitter  Blogging Platforms, Messaging, SMS, Social Media   \n",
       "1      Twitter  Blogging Platforms, Messaging, SMS, Social Media   \n",
       "2      Twitter  Blogging Platforms, Messaging, SMS, Social Media   \n",
       "3      Twitter  Blogging Platforms, Messaging, SMS, Social Media   \n",
       "4      Twitter  Blogging Platforms, Messaging, SMS, Social Media   \n",
       "\n",
       "            CITY STATE/PROVINCE        COUNTRY EMPLOYEE_CATEGORY  \\\n",
       "0  San Francisco     California  United States             Large   \n",
       "1  San Francisco     California  United States             Large   \n",
       "2  San Francisco     California  United States             Large   \n",
       "3  San Francisco     California  United States             Large   \n",
       "4  San Francisco     California  United States             Large   \n",
       "\n",
       "  REVENUE_CATEGORY  YEARS_SINCE_FOUNDED  STATUS          JOB_TITLES  \\\n",
       "0       Very Large                   18  Exited                 CEO   \n",
       "1       Very Large                   18  Exited          Co-Founder   \n",
       "2       Very Large                   18  Exited         Team Member   \n",
       "3       Very Large                   18  Exited     General Counsel   \n",
       "4       Very Large                   18  Exited  VP, Trust & Safety   \n",
       "\n",
       "                                    ATTENDED_SCHOOLS  \n",
       "0                                                NaN  \n",
       "1   Northeastern University University of Massach...  \n",
       "2                                                NaN  \n",
       "3   Cornell University New York University School...  \n",
       "4                                                NaN  "
      ]
     },
     "execution_count": 72,
     "metadata": {},
     "output_type": "execute_result"
    }
   ],
   "source": [
    "# Join comp_df and emp_df on 'COMPANY_NAME'\n",
    "merged_df = pd.merge(comp_df, emp_df, on='COMPANY_NAME', how='inner')\n",
    "merged_df.head()"
   ]
  },
  {
   "cell_type": "code",
   "execution_count": 73,
   "metadata": {},
   "outputs": [
    {
     "name": "stdout",
     "output_type": "stream",
     "text": [
      "Software                  289\n",
      "FinTech                   146\n",
      "Financial Services        143\n",
      "SaaS                      142\n",
      "Information Technology    134\n",
      "Internet                  129\n",
      "E-Commerce                119\n",
      "Enterprise Software       114\n",
      "Finance                    99\n",
      "Health Care                90\n",
      "dtype: int64\n"
     ]
    }
   ],
   "source": [
    "print(sector_counts[:20])"
   ]
  },
  {
   "cell_type": "code",
   "execution_count": 74,
   "metadata": {},
   "outputs": [
    {
     "name": "stdout",
     "output_type": "stream",
     "text": [
      " Stanford University                             71\n",
      " Massachusetts Institute of Technology - MIT     55\n",
      " University of California, Berkeley              53\n",
      " Carnegie Mellon University                      36\n",
      " University of Washington                        34\n",
      " Harvard University                              29\n",
      " University of California, Los Angeles (UCLA)    23\n",
      " University of Southern California               21\n",
      " Cornell University                              21\n",
      " University of Michigan                          21\n",
      "Name: ATTENDED_SCHOOLS, dtype: int64\n"
     ]
    }
   ],
   "source": [
    "tech_companies = merged_df[merged_df['CATEGORY'].notna() & merged_df['CATEGORY'].str.contains('Software|Artificial Intelligence|Machine Learning|Cloud Computing')]\n",
    "tech_comapny_empl_shools = tech_companies['ATTENDED_SCHOOLS'].value_counts()[:10]\n",
    "print(tech_comapny_empl_shools)"
   ]
  },
  {
   "cell_type": "code",
   "execution_count": 85,
   "metadata": {},
   "outputs": [
    {
     "data": {
      "image/png": "[encoded data removed]",
      "text/plain": [
       "<Figure size 1200x600 with 1 Axes>"
      ]
     },
     "metadata": {},
     "output_type": "display_data"
    }
   ],
   "source": [
    "plt.figure(figsize=(12, 6))\n",
    "tech_comapny_empl_shools.plot(kind='bar', color='orange')\n",
    "plt.title('Top 10 Schools of Employees in Tech Companies')  \n",
    "plt.xlabel('Schools')\n",
    "plt.ylabel('Count')\n",
    "plt.xticks(rotation=45, ha='right')\n",
    "plt.tight_layout()\n",
    "plt.show()"
   ]
  },
  {
   "cell_type": "markdown",
   "metadata": {},
   "source": [
    "## 14. Percentage of employees who went to Ivy League Schools at Microsoft and Google "
   ]
  },
  {
   "cell_type": "code",
   "execution_count": 76,
   "metadata": {
    "vscode": {
     "languageId": "ruby"
    }
   },
   "outputs": [
    {
     "name": "stdout",
     "output_type": "stream",
     "text": [
      "Percentage of Google employees who went to Ivy League schools: 4.94%\n",
      "Percentage of Microsoft employees who went to Ivy League schools: 1.65%\n"
     ]
    }
   ],
   "source": [
    "# Calculate the percentage of Google employees who went to Ivy League schools\n",
    "google_employees = emp_df[emp_df['COMPANY_NAME'] == 'Google']\n",
    "google_ivy_league_employees = google_employees[google_employees['ATTENDED_SCHOOLS'].apply(lambda schools: any(ivy_school in str(schools) for ivy_school in ivy_league_schools))]\n",
    "\n",
    "total_google_employees = google_employees.shape[0]\n",
    "total_google_ivy_league_employees = google_ivy_league_employees.shape[0]\n",
    "percentage_google_ivy_league = (total_google_ivy_league_employees / total_google_employees) * 100\n",
    "\n",
    "print(f\"Percentage of Google employees who went to Ivy League schools: {percentage_google_ivy_league:.2f}%\")\n",
    "\n",
    "# Calculate the percentage of Microsoft employees who went to Ivy League schools\n",
    "microsoft_employees = emp_df[emp_df['COMPANY_NAME'] == 'Microsoft']\n",
    "microsoft_ivy_league_employees = microsoft_employees[microsoft_employees['ATTENDED_SCHOOLS'].apply(lambda schools: any(ivy_school in str(schools) for ivy_school in ivy_league_schools))]\n",
    "\n",
    "total_microsoft_employees = microsoft_employees.shape[0]\n",
    "total_microsoft_ivy_league_employees = microsoft_ivy_league_employees.shape[0]\n",
    "percentage_microsoft_ivy_league = (total_microsoft_ivy_league_employees / total_microsoft_employees) * 100\n",
    "\n",
    "print(f\"Percentage of Microsoft employees who went to Ivy League schools: {percentage_microsoft_ivy_league:.2f}%\")"
   ]
  },
  {
   "cell_type": "markdown",
   "metadata": {},
   "source": [
    "## 15. Is there a company where there are less than 50 emoloyees but the revenue is greater than $1B?"
   ]
  },
  {
   "cell_type": "code",
   "execution_count": 77,
   "metadata": {
    "vscode": {
     "languageId": "ruby"
    }
   },
   "outputs": [
    {
     "name": "stdout",
     "output_type": "stream",
     "text": [
      "Companies with revenue>$1B and employees<50: ICICI Bank\n"
     ]
    }
   ],
   "source": [
    "high_rev_comp = comp_df[(comp_df['EMPLOYEE_CATEGORY'] == 'Small') & (comp_df['REVENUE_CATEGORY'] == 'Very Large')]['COMPANY_NAME']\n",
    "print(f\"Companies with revenue>$1B and employees<50: {', '.join(high_rev_comp)}\")"
   ]
  },
  {
   "cell_type": "markdown",
   "metadata": {},
   "source": [
    "Do we have any information on its employees? "
   ]
  },
  {
   "cell_type": "code",
   "execution_count": 78,
   "metadata": {
    "vscode": {
     "languageId": "ruby"
    }
   },
   "outputs": [],
   "source": [
    "Icici_employees  = merged_df[merged_df['COMPANY_NAME'] == 'ICICI Bank']"
   ]
  },
  {
   "cell_type": "markdown",
   "metadata": {},
   "source": [
    "Unfortunately not.\n",
    "What infomration do we have on this company?"
   ]
  },
  {
   "cell_type": "code",
   "execution_count": 79,
   "metadata": {
    "vscode": {
     "languageId": "ruby"
    }
   },
   "outputs": [
    {
     "data": {
      "text/html": [
       "<div>\n",
       "<style scoped>\n",
       "    .dataframe tbody tr th:only-of-type {\n",
       "        vertical-align: middle;\n",
       "    }\n",
       "\n",
       "    .dataframe tbody tr th {\n",
       "        vertical-align: top;\n",
       "    }\n",
       "\n",
       "    .dataframe thead th {\n",
       "        text-align: right;\n",
       "    }\n",
       "</style>\n",
       "<table border=\"1\" class=\"dataframe\">\n",
       "  <thead>\n",
       "    <tr style=\"text-align: right;\">\n",
       "      <th></th>\n",
       "      <th>COMPANY_NAME</th>\n",
       "      <th>CATEGORY</th>\n",
       "      <th>CITY</th>\n",
       "      <th>STATE/PROVINCE</th>\n",
       "      <th>COUNTRY</th>\n",
       "      <th>EMPLOYEE_CATEGORY</th>\n",
       "      <th>REVENUE_CATEGORY</th>\n",
       "      <th>YEARS_SINCE_FOUNDED</th>\n",
       "      <th>STATUS</th>\n",
       "    </tr>\n",
       "  </thead>\n",
       "  <tbody>\n",
       "    <tr>\n",
       "      <th>614</th>\n",
       "      <td>ICICI Bank</td>\n",
       "      <td>Banking, Financial Services</td>\n",
       "      <td>Mumbai</td>\n",
       "      <td>Maharashtra</td>\n",
       "      <td>India</td>\n",
       "      <td>Small</td>\n",
       "      <td>Very Large</td>\n",
       "      <td>30</td>\n",
       "      <td>Exited</td>\n",
       "    </tr>\n",
       "  </tbody>\n",
       "</table>\n",
       "</div>"
      ],
      "text/plain": [
       "    COMPANY_NAME                     CATEGORY    CITY STATE/PROVINCE COUNTRY  \\\n",
       "614   ICICI Bank  Banking, Financial Services  Mumbai    Maharashtra   India   \n",
       "\n",
       "    EMPLOYEE_CATEGORY REVENUE_CATEGORY  YEARS_SINCE_FOUNDED  STATUS  \n",
       "614             Small       Very Large                   30  Exited  "
      ]
     },
     "execution_count": 79,
     "metadata": {},
     "output_type": "execute_result"
    }
   ],
   "source": [
    "comp_df[comp_df['COMPANY_NAME'] == 'ICICI Bank']"
   ]
  },
  {
   "cell_type": "markdown",
   "metadata": {},
   "source": [
    "So it was founded 30 years ago in Mumbay, Maharashtra, India. The category is Banking, Financial Services and the current status is Exited."
   ]
  },
  {
   "cell_type": "markdown",
   "metadata": {},
   "source": [
    "## 16. What's the average investment funding that FinTech and Financial Services companies are getting? "
   ]
  },
  {
   "cell_type": "code",
   "execution_count": 80,
   "metadata": {
    "vscode": {
     "languageId": "ruby"
    }
   },
   "outputs": [
    {
     "data": {
      "text/html": [
       "<div>\n",
       "<style scoped>\n",
       "    .dataframe tbody tr th:only-of-type {\n",
       "        vertical-align: middle;\n",
       "    }\n",
       "\n",
       "    .dataframe tbody tr th {\n",
       "        vertical-align: top;\n",
       "    }\n",
       "\n",
       "    .dataframe thead th {\n",
       "        text-align: right;\n",
       "    }\n",
       "</style>\n",
       "<table border=\"1\" class=\"dataframe\">\n",
       "  <thead>\n",
       "    <tr style=\"text-align: right;\">\n",
       "      <th></th>\n",
       "      <th>COMPANY_NAME</th>\n",
       "      <th>CATEGORY</th>\n",
       "      <th>CITY</th>\n",
       "      <th>STATE/PROVINCE</th>\n",
       "      <th>COUNTRY</th>\n",
       "      <th>EMPLOYEE_CATEGORY</th>\n",
       "      <th>REVENUE_CATEGORY</th>\n",
       "      <th>YEARS_SINCE_FOUNDED</th>\n",
       "      <th>STATUS</th>\n",
       "      <th>FUNDING_TYPE</th>\n",
       "      <th>CURRENCY</th>\n",
       "      <th>MONEY_RAISED</th>\n",
       "      <th>ANNOUNCED_DATE</th>\n",
       "      <th>INVESTMENT_STAGE</th>\n",
       "      <th>MONEY_RAISED_IN_USD</th>\n",
       "    </tr>\n",
       "  </thead>\n",
       "  <tbody>\n",
       "    <tr>\n",
       "      <th>10</th>\n",
       "      <td>Ant Group</td>\n",
       "      <td>Banking, E-Commerce, Financial Services, FinTe...</td>\n",
       "      <td>Hangzhou</td>\n",
       "      <td>Zhejiang</td>\n",
       "      <td>China</td>\n",
       "      <td>Very Large</td>\n",
       "      <td>Large</td>\n",
       "      <td>10</td>\n",
       "      <td>Active</td>\n",
       "      <td>Series C</td>\n",
       "      <td>$</td>\n",
       "      <td>1.400000e+10</td>\n",
       "      <td>2018-06-08</td>\n",
       "      <td>Late Stage Venture</td>\n",
       "      <td>1.400000e+10</td>\n",
       "    </tr>\n",
       "    <tr>\n",
       "      <th>11</th>\n",
       "      <td>Ant Group</td>\n",
       "      <td>Banking, E-Commerce, Financial Services, FinTe...</td>\n",
       "      <td>Hangzhou</td>\n",
       "      <td>Zhejiang</td>\n",
       "      <td>China</td>\n",
       "      <td>Very Large</td>\n",
       "      <td>Large</td>\n",
       "      <td>10</td>\n",
       "      <td>Active</td>\n",
       "      <td>Series B</td>\n",
       "      <td>$</td>\n",
       "      <td>4.500000e+09</td>\n",
       "      <td>2016-04-22</td>\n",
       "      <td>Early Stage Venture</td>\n",
       "      <td>4.500000e+09</td>\n",
       "    </tr>\n",
       "    <tr>\n",
       "      <th>12</th>\n",
       "      <td>Squire</td>\n",
       "      <td>Consumer, FinTech, Mobile Apps, Point of Sale,...</td>\n",
       "      <td>New York</td>\n",
       "      <td>New York</td>\n",
       "      <td>United States</td>\n",
       "      <td>Medium</td>\n",
       "      <td>Small</td>\n",
       "      <td>8</td>\n",
       "      <td>Active</td>\n",
       "      <td>Series C</td>\n",
       "      <td>$</td>\n",
       "      <td>4.400000e+07</td>\n",
       "      <td>2020-12-09</td>\n",
       "      <td>Late Stage Venture</td>\n",
       "      <td>4.400000e+07</td>\n",
       "    </tr>\n",
       "    <tr>\n",
       "      <th>13</th>\n",
       "      <td>Squire</td>\n",
       "      <td>Consumer, FinTech, Mobile Apps, Point of Sale,...</td>\n",
       "      <td>New York</td>\n",
       "      <td>New York</td>\n",
       "      <td>United States</td>\n",
       "      <td>Medium</td>\n",
       "      <td>Small</td>\n",
       "      <td>8</td>\n",
       "      <td>Active</td>\n",
       "      <td>Debt Financing</td>\n",
       "      <td>$</td>\n",
       "      <td>1.500000e+07</td>\n",
       "      <td>2020-12-09</td>\n",
       "      <td>NaN</td>\n",
       "      <td>1.500000e+07</td>\n",
       "    </tr>\n",
       "    <tr>\n",
       "      <th>14</th>\n",
       "      <td>Squire</td>\n",
       "      <td>Consumer, FinTech, Mobile Apps, Point of Sale,...</td>\n",
       "      <td>New York</td>\n",
       "      <td>New York</td>\n",
       "      <td>United States</td>\n",
       "      <td>Medium</td>\n",
       "      <td>Small</td>\n",
       "      <td>8</td>\n",
       "      <td>Active</td>\n",
       "      <td>Pre-Seed</td>\n",
       "      <td>$</td>\n",
       "      <td>1.200000e+05</td>\n",
       "      <td>2016-08-23</td>\n",
       "      <td>Seed</td>\n",
       "      <td>1.200000e+05</td>\n",
       "    </tr>\n",
       "  </tbody>\n",
       "</table>\n",
       "</div>"
      ],
      "text/plain": [
       "   COMPANY_NAME                                           CATEGORY      CITY  \\\n",
       "10    Ant Group  Banking, E-Commerce, Financial Services, FinTe...  Hangzhou   \n",
       "11    Ant Group  Banking, E-Commerce, Financial Services, FinTe...  Hangzhou   \n",
       "12       Squire  Consumer, FinTech, Mobile Apps, Point of Sale,...  New York   \n",
       "13       Squire  Consumer, FinTech, Mobile Apps, Point of Sale,...  New York   \n",
       "14       Squire  Consumer, FinTech, Mobile Apps, Point of Sale,...  New York   \n",
       "\n",
       "   STATE/PROVINCE        COUNTRY EMPLOYEE_CATEGORY REVENUE_CATEGORY  \\\n",
       "10       Zhejiang          China        Very Large            Large   \n",
       "11       Zhejiang          China        Very Large            Large   \n",
       "12       New York  United States            Medium            Small   \n",
       "13       New York  United States            Medium            Small   \n",
       "14       New York  United States            Medium            Small   \n",
       "\n",
       "    YEARS_SINCE_FOUNDED  STATUS    FUNDING_TYPE CURRENCY  MONEY_RAISED  \\\n",
       "10                   10  Active        Series C        $  1.400000e+10   \n",
       "11                   10  Active        Series B        $  4.500000e+09   \n",
       "12                    8  Active        Series C        $  4.400000e+07   \n",
       "13                    8  Active  Debt Financing        $  1.500000e+07   \n",
       "14                    8  Active        Pre-Seed        $  1.200000e+05   \n",
       "\n",
       "   ANNOUNCED_DATE     INVESTMENT_STAGE  MONEY_RAISED_IN_USD  \n",
       "10     2018-06-08   Late Stage Venture         1.400000e+10  \n",
       "11     2016-04-22  Early Stage Venture         4.500000e+09  \n",
       "12     2020-12-09   Late Stage Venture         4.400000e+07  \n",
       "13     2020-12-09                  NaN         1.500000e+07  \n",
       "14     2016-08-23                 Seed         1.200000e+05  "
      ]
     },
     "execution_count": 80,
     "metadata": {},
     "output_type": "execute_result"
    }
   ],
   "source": [
    "comp_inv_df = pd.merge(comp_df, inv_df, on='COMPANY_NAME', how='inner')\n",
    "comp_inv_df = comp_inv_df[comp_inv_df['CATEGORY'].str.contains('Fintech|Financial Services|Finance', case=False, na=False)]\n",
    "comp_inv_df.head()"
   ]
  },
  {
   "cell_type": "code",
   "execution_count": 81,
   "metadata": {
    "vscode": {
     "languageId": "ruby"
    }
   },
   "outputs": [
    {
     "name": "stdout",
     "output_type": "stream",
     "text": [
      "Average amount of money raised by fintech anf financial companies: 107,739,212.09$\n"
     ]
    }
   ],
   "source": [
    "comp_inv_df['MONEY_RAISED_IN_USD'].describe()  \n",
    "print(f\"Average amount of money raised by fintech anf financial companies: {comp_inv_df['MONEY_RAISED_IN_USD'].mean():,.2f}$\") "
   ]
  }
 ],
 "metadata": {
  "kernelspec": {
   "display_name": "Python (myenv)",
   "language": "python",
   "name": "myenv"
  },
  "language_info": {
   "codemirror_mode": {
    "name": "ipython",
    "version": 3
   },
   "file_extension": ".py",
   "mimetype": "text/x-python",
   "name": "python",
   "nbconvert_exporter": "python",
   "pygments_lexer": "ipython3",
   "version": "3.8.8"
  }
 },
 "nbformat": 4,
 "nbformat_minor": 2
}
